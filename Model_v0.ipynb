{
  "nbformat": 4,
  "nbformat_minor": 0,
  "metadata": {
    "colab": {
      "provenance": [],
      "collapsed_sections": []
    },
    "kernelspec": {
      "name": "python3",
      "display_name": "Python 3"
    },
    "language_info": {
      "name": "python"
    }
  },
  "cells": [
    {
      "cell_type": "code",
      "execution_count": null,
      "metadata": {
        "id": "F_Hh_-6GDRcE"
      },
      "outputs": [],
      "source": [
        "import pandas as pd \n",
        "import numpy as np\n",
        "import seaborn as sns\n",
        "import matplotlib.pyplot as plt"
      ]
    },
    {
      "cell_type": "code",
      "source": [
        "from google.colab import drive"
      ],
      "metadata": {
        "id": "R8nu5rroDrRW"
      },
      "execution_count": null,
      "outputs": []
    },
    {
      "cell_type": "code",
      "source": [
        "drive.mount('/content/gdrive')"
      ],
      "metadata": {
        "colab": {
          "base_uri": "https://localhost:8080/"
        },
        "id": "Efq2R0CtDscM",
        "outputId": "adaa642b-4ec0-473b-84cc-62d4bc5d0f7a"
      },
      "execution_count": null,
      "outputs": [
        {
          "output_type": "stream",
          "name": "stdout",
          "text": [
            "Mounted at /content/gdrive\n"
          ]
        }
      ]
    },
    {
      "cell_type": "code",
      "source": [
        "path = \"/content/gdrive/MyDrive/Hackathon_EFI/Clean Data/Sample 2007-2017/Merged Melted Carbon Emission.xlsx\"\n",
        "df_carbone_emission = pd.read_excel(path)\n",
        "\n",
        "path = \"/content/gdrive/MyDrive/Hackathon_EFI/Clean Data/Sample 2007-2017/Distance to default.xlsx\"\n",
        "df_distance_to_default = pd.read_excel(path)\n",
        "\n",
        "path = \"/content/gdrive/MyDrive/Hackathon_EFI/Clean Data/Sample 2007-2017/Melted Market Cap.xlsx\"\n",
        "df_market_cap = pd.read_excel(path)\n",
        "\n",
        "path = \"/content/gdrive/MyDrive/Hackathon_EFI/Clean Data/Sample 2007-2017/Melted Operating Margin.xlsx\"\n",
        "df_operating_margin = pd.read_excel(path)\n",
        "\n",
        "path = \"/content/gdrive/MyDrive/Hackathon_EFI/Clean Data/Sample 2007-2017/Melted Total Assets.xlsx\"\n",
        "df_total_assets = pd.read_excel(path)\n",
        "\n",
        "path = \"/content/gdrive/MyDrive/Hackathon_EFI/Clean Data/Sample 2007-2017/Working Capital.xlsx\"\n",
        "df_working_capital = pd.read_excel(path)\n",
        "df_working_capital = pd.melt(df_working_capital, id_vars=\"Date\")\n",
        "df_working_capital.rename(columns={\"variable\":\"Ticker\"}, inplace=True)\n",
        "\n",
        "path = \"/content/gdrive/MyDrive/Hackathon_EFI/Clean Data/Sample 2007-2017/Retained Earnings.xlsx\"\n",
        "df_retained_earnings = pd.read_excel(path)\n",
        "df_retained_earnings = pd.melt(df_retained_earnings, id_vars=\"Date\")\n",
        "df_retained_earnings.rename(columns={\"variable\":\"Ticker\"}, inplace=True)\n",
        "\n",
        "path = \"/content/gdrive/MyDrive/Hackathon_EFI/Clean Data/Sample 2007-2017/Debt Ratio.xlsx\"\n",
        "df_debt_ratio = pd.read_excel(path)\n",
        "df_debt_ratio = pd.melt(df_debt_ratio, id_vars=\"Date\")\n",
        "df_debt_ratio.rename(columns={\"variable\":\"Ticker\"}, inplace=True)\n",
        "\n",
        "path = \"/content/gdrive/MyDrive/Hackathon_EFI/Clean Data/Sample 2007-2017/Volatility.xlsx\"\n",
        "df_volatility = pd.read_excel(path)\n",
        "df_volatility = pd.melt(df_volatility, id_vars=\"Date\")\n",
        "df_volatility.rename(columns={\"variable\":\"Ticker\"}, inplace=True)\n",
        "\n",
        "path = \"/content/gdrive/MyDrive/Hackathon_EFI/Clean Data/Sample 2007-2017/Price Energy.xlsx\"\n",
        "df_price_energy = pd.read_excel(path)\n",
        "df_price_energy.rename(columns={\"PX_LAST\":\"Date\",}, inplace=True)\n",
        "\n",
        "path = \"/content/gdrive/MyDrive/Hackathon_EFI/Clean Data/Sample 2007-2017/Merged Carbon Intensity.xlsx\"\n",
        "df_carbone_intensity = pd.read_excel(path)\n",
        "df_carbone_intensity = pd.melt(df_carbone_intensity, id_vars=\"Date\")\n",
        "df_carbone_intensity.rename(columns={\"variable\":\"Ticker\"}, inplace=True)"
      ],
      "metadata": {
        "id": "uHPjUniHDtzb"
      },
      "execution_count": null,
      "outputs": []
    },
    {
      "cell_type": "code",
      "source": [
        "path = \"/content/gdrive/MyDrive/Hackathon_EFI/Clean Data/Sample 2007-2017/Distance to default.xlsx\"\n",
        "df_distance_to_default = pd.read_excel(path)"
      ],
      "metadata": {
        "id": "lxdzZPqID5Yf"
      },
      "execution_count": null,
      "outputs": []
    },
    {
      "cell_type": "code",
      "source": [
        "numerical_columns = df_distance_to_default.select_dtypes(exclude=\"datetime64\")"
      ],
      "metadata": {
        "id": "aNe044O-3QrJ"
      },
      "execution_count": null,
      "outputs": []
    },
    {
      "cell_type": "code",
      "source": [
        "df_distance_to_default = df_distance_to_default.melt(id_vars=\"Date\", value_vars=numerical_columns,)"
      ],
      "metadata": {
        "id": "OGCMa8TU3InO"
      },
      "execution_count": null,
      "outputs": []
    },
    {
      "cell_type": "code",
      "source": [
        "df_distance_to_default.rename(\n",
        "    columns={\"variable\":\"Ticker\"}, \n",
        "    inplace=True\n",
        "    )\n",
        "df_distance_to_default.set_index([\"Date\", \"Ticker\"], inplace=True)"
      ],
      "metadata": {
        "id": "hAxdz86430gL"
      },
      "execution_count": null,
      "outputs": []
    },
    {
      "cell_type": "code",
      "source": [
        "for df in [\n",
        "    df_carbone_emission, \n",
        "    df_market_cap, \n",
        "    df_operating_margin, \n",
        "    df_total_assets,\n",
        "    df_working_capital,\n",
        "    df_retained_earnings,\n",
        "    df_debt_ratio,\n",
        "    df_volatility, \n",
        "    df_carbone_intensity\n",
        "    ] : \n",
        "    try : \n",
        "      df.set_index([\"Date\", \"Ticker\"], inplace=True)\n",
        "    except :\n",
        "      None\n",
        "\n",
        "try :\n",
        "  df = df_carbone_emission.rename(columns={\"value\":\"carbone emission\"})\n",
        "  df[\"distance to default\"] = df_distance_to_default[\"value\"]\n",
        "  df[\"market cap\"] = df_market_cap[\"value\"]\n",
        "  df[\"operating margin\"] = df_operating_margin[\"value\"]\n",
        "  df[\"total assets\"] = df_total_assets[\"value\"]\n",
        "  df[\"working capital\"] = df_working_capital[\"value\"]\n",
        "  df[\"retained earnings\"] = df_retained_earnings[\"value\"]\n",
        "  df[\"debt ratio\"] = df_debt_ratio[\"value\"]\n",
        "  df[\"volatility\"] = df_volatility[\"value\"]\n",
        "  df[\"carbone intensity\"] = df_carbone_intensity[\"value\"]\n",
        "except :\n",
        "  print(\"error\")\n",
        "\n",
        "df.reset_index(inplace=True)\n",
        "df.sort_values(\"Date\", inplace=True)"
      ],
      "metadata": {
        "id": "b4_ZnfpBmUqf"
      },
      "execution_count": null,
      "outputs": []
    },
    {
      "cell_type": "code",
      "source": [
        "df = df.set_index(\"Date\").join(df_price_energy.set_index(\"Date\")).reset_index()"
      ],
      "metadata": {
        "id": "GnNp-1ufp-Zn"
      },
      "execution_count": null,
      "outputs": []
    },
    {
      "cell_type": "code",
      "source": [
        "filtre = (df[\"Date\"] > pd.to_datetime(\"2011-12-31\")) & (df[\"Date\"] < pd.to_datetime(\"2020-12-31\")) \n",
        "\n",
        "df_truncature = df[filtre].set_index(\"Ticker\")\n",
        "\n",
        "filtre = (df_truncature.T.isna().sum().groupby(\"Ticker\").sum() == 0)\n",
        "filtre = [index for index in filtre.index if filtre[index] == True]\n",
        "\n",
        "df_truncature.reset_index(inplace=True)\n",
        "\n",
        "filtre = df_truncature.Ticker.isin(filtre)\n",
        "\n",
        "df_truncature = df_truncature[filtre]"
      ],
      "metadata": {
        "id": "mAX6aUM2mUuX"
      },
      "execution_count": null,
      "outputs": []
    },
    {
      "cell_type": "code",
      "source": [
        "format = '%Y'\n",
        "df_truncature[\"Date\"] = pd.to_datetime(df_truncature[\"Date\"], format=format)"
      ],
      "metadata": {
        "id": "gwwZrw1nJUh4"
      },
      "execution_count": null,
      "outputs": []
    },
    {
      "cell_type": "code",
      "source": [
        "df_truncature.set_index([\"Ticker\", \"Date\"], inplace=True)"
      ],
      "metadata": {
        "id": "h8Fa4yZKFuL6"
      },
      "execution_count": null,
      "outputs": []
    },
    {
      "cell_type": "code",
      "source": [
        "df_truncature[\"log carbone emission\"] = df_truncature[\"carbone emission\"].apply(lambda x : np.log(1+x))"
      ],
      "metadata": {
        "id": "CcF8FIFUK9NL"
      },
      "execution_count": null,
      "outputs": []
    },
    {
      "cell_type": "code",
      "source": [
        "df_truncature[\"log carbone intensity\"] = df_truncature[\"carbone intensity\"].apply(lambda x : np.log(1+x))"
      ],
      "metadata": {
        "id": "I1WK0RDgt-V_"
      },
      "execution_count": null,
      "outputs": []
    },
    {
      "cell_type": "code",
      "source": [
        "df_truncature[\"log total assets\"] = df_truncature[\"total assets\"].apply(lambda x : np.log(1+x))"
      ],
      "metadata": {
        "id": "vm96yLtQu3gh"
      },
      "execution_count": null,
      "outputs": []
    },
    {
      "cell_type": "code",
      "source": [
        "df_truncature[\"retained earnings ratio\"] = df_truncature[\"retained earnings\"] / df_truncature[\"total assets\"] "
      ],
      "metadata": {
        "id": "I3CjoZVBc1HV"
      },
      "execution_count": null,
      "outputs": []
    },
    {
      "cell_type": "code",
      "source": [
        "df_truncature[\"working capital ratio\"] = df_truncature[\"working capital\"] / df_truncature[\"total assets\"]"
      ],
      "metadata": {
        "id": "DZThnkV3aiq-"
      },
      "execution_count": null,
      "outputs": []
    },
    {
      "cell_type": "code",
      "source": [
        "df_truncature.reset_index(inplace=True)\n",
        "event = pd.to_datetime(\"2015-01-01\")\n",
        "event_end = pd.to_datetime(\"2016-01-01\")\n",
        "\n",
        "df_truncature[\"event\"] = 0\n",
        "df_truncature.loc[(df_truncature.Date >= event), \"event\"] = 1\n",
        "\n",
        "df_truncature[\"log carbone emission ante\"] = df_truncature[\"log carbone emission\"]\n",
        "df_truncature[\"log carbone emission post\"] = df_truncature[\"log carbone emission\"]\n",
        "df_truncature.loc[df_truncature.Date >= event, \"log carbone emission ante\"] = 0\n",
        "df_truncature.loc[df_truncature.Date < event, \"log carbone emission post\"] = 0\n",
        "\n",
        "df_truncature[\"log carbone intensity ante\"] = df_truncature[\"log carbone intensity\"]\n",
        "df_truncature[\"log carbone intensity post\"] = df_truncature[\"log carbone intensity\"]\n",
        "df_truncature.loc[df_truncature.Date >= event, \"log carbone intensity ante\"] = 0\n",
        "df_truncature.loc[df_truncature.Date < event, \"log carbone intensity post\"] = 0\n",
        "\n",
        "df_truncature[\"carbone intensity ante\"] = df_truncature[\"carbone intensity\"]\n",
        "df_truncature[\"carbone intensity post\"] = df_truncature[\"carbone intensity\"]\n",
        "df_truncature.loc[df_truncature.Date >= event, \"carbone intensity ante\"] = 0\n",
        "df_truncature.loc[df_truncature.Date < event, \"carbone intensity post\"] = 0\n",
        "\n",
        "df_truncature.Date = pd.to_datetime(df_truncature[\"Date\"])\n",
        "df_truncature.set_index([\"Ticker\", \"Date\"], inplace=True)"
      ],
      "metadata": {
        "id": "9cKr3VvmdcRj"
      },
      "execution_count": null,
      "outputs": []
    },
    {
      "cell_type": "code",
      "source": [
        "cols = [\"EQY TICKER\", \"Country\", \"Industry\"]\n",
        "sample = pd.read_excel(\"/content/gdrive/MyDrive/Hackathon_EFI/Data/Sample 2007-2017/Final Sample.xlsx\")\n",
        "sample = sample[cols]\n",
        "\n",
        "sample.rename(columns={\"EQY TICKER\":\"Ticker\"}, inplace=True)\n",
        "df_truncature = df_truncature.reset_index().set_index(\"Ticker\").join(sample.set_index(\"Ticker\"))"
      ],
      "metadata": {
        "id": "9_Y8Hs8Ouz53"
      },
      "execution_count": null,
      "outputs": []
    },
    {
      "cell_type": "code",
      "source": [
        "df_truncature.reset_index(inplace=True)"
      ],
      "metadata": {
        "id": "4avw6heFyFpz"
      },
      "execution_count": null,
      "outputs": []
    },
    {
      "cell_type": "code",
      "source": [
        "import statsmodels.api as sm\n",
        "from linearmodels.panel import PooledOLS\n",
        "from linearmodels import PanelOLS\n",
        "from sklearn.preprocessing import StandardScaler"
      ],
      "metadata": {
        "id": "wirIzsDeGqQc"
      },
      "execution_count": null,
      "outputs": []
    },
    {
      "cell_type": "code",
      "source": [
        "def model(\n",
        "    data_all=df_truncature, \n",
        "    control_variables=[\n",
        "        \"log total assets\", \n",
        "        \"operating margin\", \n",
        "        \"working capital ratio\", \n",
        "        \"retained earnings ratio\",\n",
        "        \"debt ratio\",\n",
        "        \"volatility\",\n",
        "        \"Oil\",\n",
        "        ],\n",
        "    target_variable=\"distance to default\", \n",
        "    interets_variable=[\"log carbone emission\"], \n",
        "    year_min=pd.to_datetime(\"2011-12-01\"),\n",
        "    year_max=pd.to_datetime(\"2020-12-01\"),\n",
        "    scaler=True, \n",
        "    cst=True, \n",
        "    cov=\"robust\",\n",
        "    entity=False, \n",
        "    ) : \n",
        "    \"\"\"Function that runs a PanelOLS model\n",
        "    \n",
        "    Inputs :\n",
        "      -df\n",
        "      -control_variable\n",
        "      -target_variable\n",
        "      -interets_variable\n",
        "      -year_min\n",
        "      -year_max\n",
        "    Output : \n",
        "      -print of the model \n",
        "    \"\"\"\n",
        "\n",
        "    data = data_all[(data_all.Date >= year_min) & (data_all.Date <= year_max)].copy()\n",
        "    data = data.set_index([\"Ticker\", \"Date\"])\n",
        "    exog = data[control_variables + interets_variable]\n",
        "\n",
        "    if scaler == True : \n",
        "        autoscaler = StandardScaler()\n",
        "        scaled_exog = autoscaler.fit_transform(exog)\n",
        "        exog = pd.DataFrame(scaled_exog, index=exog.index, columns=exog.columns)\n",
        "    \n",
        "    if cst == True : \n",
        "      exog = sm.tools.tools.add_constant(exog)\n",
        "\n",
        "    endog = data[target_variable]\n",
        "\n",
        "    model_fe = PanelOLS(endog, exog, entity_effects = entity) \n",
        "    fe_res = model_fe.fit(cov_type=cov)\n",
        "\n",
        "    print(fe_res)"
      ],
      "metadata": {
        "id": "LV-NQyDBu34G"
      },
      "execution_count": null,
      "outputs": []
    },
    {
      "cell_type": "code",
      "source": [
        "for var in [\n",
        "    [\"log carbone emission\"], \n",
        "    [\"carbone intensity\"], \n",
        "    [\"carbone intensity\", \"carbone intensity post\", \"event\"],\n",
        "    ] : \n",
        "    print(var)\n",
        "    model(interets_variable=var)"
      ],
      "metadata": {
        "colab": {
          "base_uri": "https://localhost:8080/"
        },
        "id": "8ALEowgyyvlW",
        "outputId": "b76ac21c-29de-4b22-f350-86b4bc23f23a"
      },
      "execution_count": null,
      "outputs": [
        {
          "output_type": "stream",
          "name": "stdout",
          "text": [
            "['log carbone emission']\n"
          ]
        },
        {
          "output_type": "stream",
          "name": "stderr",
          "text": [
            "/usr/local/lib/python3.7/dist-packages/statsmodels/tsa/tsatools.py:142: FutureWarning: In a future version of pandas all arguments of concat except for the argument 'objs' will be keyword-only\n",
            "  x = pd.concat(x[::order], 1)\n"
          ]
        },
        {
          "output_type": "stream",
          "name": "stdout",
          "text": [
            "                           PanelOLS Estimation Summary                           \n",
            "=================================================================================\n",
            "Dep. Variable:     distance to default   R-squared:                        0.5793\n",
            "Estimator:                    PanelOLS   R-squared (Between):              0.5792\n",
            "No. Observations:                 2547   R-squared (Within):               0.5538\n",
            "Date:                 Sat, Oct 15 2022   R-squared (Overall):              0.5793\n",
            "Time:                         04:13:54   Log-likelihood                   -6212.0\n",
            "Cov. Estimator:                 Robust                                           \n",
            "                                         F-statistic:                      436.86\n",
            "Entities:                          269   P-value                           0.0000\n",
            "Avg Obs:                        9.4684   Distribution:                  F(8,2538)\n",
            "Min Obs:                        9.0000                                           \n",
            "Max Obs:                        27.000   F-statistic (robust):             259.66\n",
            "                                         P-value                           0.0000\n",
            "Time periods:                        9   Distribution:                  F(8,2538)\n",
            "Avg Obs:                        283.00                                           \n",
            "Min Obs:                        283.00                                           \n",
            "Max Obs:                        283.00                                           \n",
            "                                                                                 \n",
            "                                    Parameter Estimates                                    \n",
            "===========================================================================================\n",
            "                         Parameter  Std. Err.     T-stat    P-value    Lower CI    Upper CI\n",
            "-------------------------------------------------------------------------------------------\n",
            "const                       8.6269     0.0550     156.72     0.0000      8.5190      8.7348\n",
            "log total assets           -1.0188     0.0533    -19.101     0.0000     -1.1234     -0.9142\n",
            "operating margin           -0.1141     0.0526    -2.1680     0.0303     -0.2173     -0.0109\n",
            "working capital ratio      -0.9003     0.0742    -12.136     0.0000     -1.0458     -0.7549\n",
            "retained earnings ratio    -0.3198     0.0553    -5.7813     0.0000     -0.4282     -0.2113\n",
            "debt ratio                 -0.6065     0.0583    -10.408     0.0000     -0.7208     -0.4922\n",
            "volatility                 -2.7649     0.1175    -23.535     0.0000     -2.9953     -2.5346\n",
            "Oil                        -0.0805     0.0591    -1.3625     0.1732     -0.1964      0.0354\n",
            "log carbone emission       -0.1203     0.0670    -1.7939     0.0730     -0.2517      0.0112\n",
            "===========================================================================================\n",
            "\n",
            "\n",
            "['carbone intensity']\n",
            "                           PanelOLS Estimation Summary                           \n",
            "=================================================================================\n",
            "Dep. Variable:     distance to default   R-squared:                        0.5819\n",
            "Estimator:                    PanelOLS   R-squared (Between):              0.5853\n",
            "No. Observations:                 2547   R-squared (Within):               0.5519\n",
            "Date:                 Sat, Oct 15 2022   R-squared (Overall):              0.5819\n",
            "Time:                         04:13:54   Log-likelihood                   -6204.0\n",
            "Cov. Estimator:                 Robust                                           \n",
            "                                         F-statistic:                      441.61\n",
            "Entities:                          269   P-value                           0.0000\n",
            "Avg Obs:                        9.4684   Distribution:                  F(8,2538)\n",
            "Min Obs:                        9.0000                                           \n",
            "Max Obs:                        27.000   F-statistic (robust):             258.82\n",
            "                                         P-value                           0.0000\n",
            "Time periods:                        9   Distribution:                  F(8,2538)\n",
            "Avg Obs:                        283.00                                           \n",
            "Min Obs:                        283.00                                           \n",
            "Max Obs:                        283.00                                           \n",
            "                                                                                 \n",
            "                                    Parameter Estimates                                    \n",
            "===========================================================================================\n",
            "                         Parameter  Std. Err.     T-stat    P-value    Lower CI    Upper CI\n",
            "-------------------------------------------------------------------------------------------\n",
            "const                       8.6269     0.0549     157.21     0.0000      8.5193      8.7345\n",
            "log total assets           -1.0588     0.0540    -19.610     0.0000     -1.1647     -0.9529\n",
            "operating margin           -0.1034     0.0520    -1.9905     0.0466     -0.2053     -0.0015\n",
            "working capital ratio      -0.8590     0.0606    -14.182     0.0000     -0.9778     -0.7403\n",
            "retained earnings ratio    -0.3227     0.0556    -5.8053     0.0000     -0.4316     -0.2137\n",
            "debt ratio                 -0.5853     0.0584    -10.027     0.0000     -0.6998     -0.4709\n",
            "volatility                 -2.7799     0.1184    -23.487     0.0000     -3.0120     -2.5478\n",
            "Oil                        -0.0776     0.0589    -1.3167     0.1881     -0.1931      0.0379\n",
            "carbone intensity          -0.2465     0.0425    -5.8039     0.0000     -0.3298     -0.1632\n",
            "===========================================================================================\n",
            "\n",
            "\n",
            "['carbone intensity', 'carbone intensity post', 'event']\n"
          ]
        },
        {
          "output_type": "stream",
          "name": "stderr",
          "text": [
            "/usr/local/lib/python3.7/dist-packages/statsmodels/tsa/tsatools.py:142: FutureWarning: In a future version of pandas all arguments of concat except for the argument 'objs' will be keyword-only\n",
            "  x = pd.concat(x[::order], 1)\n",
            "/usr/local/lib/python3.7/dist-packages/statsmodels/tsa/tsatools.py:142: FutureWarning: In a future version of pandas all arguments of concat except for the argument 'objs' will be keyword-only\n",
            "  x = pd.concat(x[::order], 1)\n"
          ]
        },
        {
          "output_type": "stream",
          "name": "stdout",
          "text": [
            "                           PanelOLS Estimation Summary                           \n",
            "=================================================================================\n",
            "Dep. Variable:     distance to default   R-squared:                        0.5832\n",
            "Estimator:                    PanelOLS   R-squared (Between):              0.5832\n",
            "No. Observations:                 2547   R-squared (Within):               0.5578\n",
            "Date:                 Sat, Oct 15 2022   R-squared (Overall):              0.5832\n",
            "Time:                         04:13:55   Log-likelihood                   -6200.2\n",
            "Cov. Estimator:                 Robust                                           \n",
            "                                         F-statistic:                      354.80\n",
            "Entities:                          269   P-value                           0.0000\n",
            "Avg Obs:                        9.4684   Distribution:                 F(10,2536)\n",
            "Min Obs:                        9.0000                                           \n",
            "Max Obs:                        27.000   F-statistic (robust):             236.71\n",
            "                                         P-value                           0.0000\n",
            "Time periods:                        9   Distribution:                 F(10,2536)\n",
            "Avg Obs:                        283.00                                           \n",
            "Min Obs:                        283.00                                           \n",
            "Max Obs:                        283.00                                           \n",
            "                                                                                 \n",
            "                                    Parameter Estimates                                    \n",
            "===========================================================================================\n",
            "                         Parameter  Std. Err.     T-stat    P-value    Lower CI    Upper CI\n",
            "-------------------------------------------------------------------------------------------\n",
            "const                       8.6269     0.0548     157.38     0.0000      8.5194      8.7344\n",
            "log total assets           -1.0606     0.0540    -19.653     0.0000     -1.1664     -0.9548\n",
            "operating margin           -0.1029     0.0515    -1.9982     0.0458     -0.2039     -0.0019\n",
            "working capital ratio      -0.8667     0.0605    -14.332     0.0000     -0.9852     -0.7481\n",
            "retained earnings ratio    -0.3227     0.0554    -5.8222     0.0000     -0.4314     -0.2140\n",
            "debt ratio                 -0.5863     0.0583    -10.064     0.0000     -0.7005     -0.4721\n",
            "volatility                 -2.7364     0.1293    -21.162     0.0000     -2.9899     -2.4828\n",
            "Oil                         0.1631     0.1666     0.9790     0.3277     -0.1636      0.4898\n",
            "carbone intensity          -0.1276     0.0614    -2.0765     0.0379     -0.2480     -0.0071\n",
            "carbone intensity post     -0.1636     0.0549    -2.9801     0.0029     -0.2713     -0.0560\n",
            "event                       0.2921     0.1609     1.8154     0.0696     -0.0234      0.6076\n",
            "===========================================================================================\n",
            "\n",
            "\n"
          ]
        }
      ]
    },
    {
      "cell_type": "code",
      "source": [
        "for var in [\n",
        "    [\"log carbone emission\"], \n",
        "    [\"carbone intensity\"], \n",
        "    [\"carbone intensity\", \"carbone intensity post\", \"event\"],\n",
        "    ] : \n",
        "    print(var)\n",
        "    model(interets_variable=var, entity=True, cst=False)"
      ],
      "metadata": {
        "id": "zC9QhKLaJWfD",
        "colab": {
          "base_uri": "https://localhost:8080/"
        },
        "outputId": "3d6de6d3-205c-423e-cd19-d4e8d5298dd4"
      },
      "execution_count": null,
      "outputs": [
        {
          "output_type": "stream",
          "name": "stdout",
          "text": [
            "['log carbone emission']\n",
            "                           PanelOLS Estimation Summary                           \n",
            "=================================================================================\n",
            "Dep. Variable:     distance to default   R-squared:                        0.5782\n",
            "Estimator:                    PanelOLS   R-squared (Between):              0.0450\n",
            "No. Observations:                 2547   R-squared (Within):               0.5782\n",
            "Date:                 Sat, Oct 15 2022   R-squared (Overall):              0.0782\n",
            "Time:                         04:16:31   Log-likelihood                   -5092.9\n",
            "Cov. Estimator:                 Robust                                           \n",
            "                                         F-statistic:                      388.91\n",
            "Entities:                          269   P-value                           0.0000\n",
            "Avg Obs:                        9.4684   Distribution:                  F(8,2270)\n",
            "Min Obs:                        9.0000                                           \n",
            "Max Obs:                        27.000   F-statistic (robust):             109.24\n",
            "                                         P-value                           0.0000\n",
            "Time periods:                        9   Distribution:                  F(8,2270)\n",
            "Avg Obs:                        283.00                                           \n",
            "Min Obs:                        283.00                                           \n",
            "Max Obs:                        283.00                                           \n",
            "                                                                                 \n",
            "                                    Parameter Estimates                                    \n",
            "===========================================================================================\n",
            "                         Parameter  Std. Err.     T-stat    P-value    Lower CI    Upper CI\n",
            "-------------------------------------------------------------------------------------------\n",
            "log total assets           -1.4760     0.5003    -2.9500     0.0032     -2.4571     -0.4948\n",
            "operating margin           -0.0849     0.0713    -1.1904     0.2340     -0.2248      0.0550\n",
            "working capital ratio       1.0502     0.3553     2.9556     0.0032      0.3534      1.7470\n",
            "retained earnings ratio    -0.1573     0.1057    -1.4890     0.1366     -0.3645      0.0499\n",
            "debt ratio                 -0.5210     0.1506    -3.4585     0.0006     -0.8164     -0.2256\n",
            "volatility                 -2.3534     0.0963    -24.443     0.0000     -2.5422     -2.1646\n",
            "Oil                        -0.0253     0.0502    -0.5050     0.6136     -0.1237      0.0731\n",
            "log carbone emission       -0.1063     0.3628    -0.2929     0.7696     -0.8177      0.6052\n",
            "===========================================================================================\n",
            "\n",
            "F-test for Poolability: 11.926\n",
            "P-value: 0.0000\n",
            "Distribution: F(268,2270)\n",
            "\n",
            "Included effects: Entity\n",
            "['carbone intensity']\n",
            "                           PanelOLS Estimation Summary                           \n",
            "=================================================================================\n",
            "Dep. Variable:     distance to default   R-squared:                        0.5782\n",
            "Estimator:                    PanelOLS   R-squared (Between):              0.0480\n",
            "No. Observations:                 2547   R-squared (Within):               0.5782\n",
            "Date:                 Sat, Oct 15 2022   R-squared (Overall):              0.0808\n",
            "Time:                         04:16:31   Log-likelihood                   -5092.8\n",
            "Cov. Estimator:                 Robust                                           \n",
            "                                         F-statistic:                      388.96\n",
            "Entities:                          269   P-value                           0.0000\n",
            "Avg Obs:                        9.4684   Distribution:                  F(8,2270)\n",
            "Min Obs:                        9.0000                                           \n",
            "Max Obs:                        27.000   F-statistic (robust):             110.26\n",
            "                                         P-value                           0.0000\n",
            "Time periods:                        9   Distribution:                  F(8,2270)\n",
            "Avg Obs:                        283.00                                           \n",
            "Min Obs:                        283.00                                           \n",
            "Max Obs:                        283.00                                           \n",
            "                                                                                 \n",
            "                                    Parameter Estimates                                    \n",
            "===========================================================================================\n",
            "                         Parameter  Std. Err.     T-stat    P-value    Lower CI    Upper CI\n",
            "-------------------------------------------------------------------------------------------\n",
            "log total assets           -1.4616     0.4884    -2.9924     0.0028     -2.4195     -0.5038\n",
            "operating margin           -0.0839     0.0712    -1.1789     0.2386     -0.2235      0.0557\n",
            "working capital ratio       1.0472     0.3551     2.9491     0.0032      0.3509      1.7436\n",
            "retained earnings ratio    -0.1577     0.1055    -1.4940     0.1353     -0.3647      0.0493\n",
            "debt ratio                 -0.5201     0.1500    -3.4669     0.0005     -0.8143     -0.2259\n",
            "volatility                 -2.3540     0.0962    -24.461     0.0000     -2.5428     -2.1653\n",
            "Oil                        -0.0284     0.0493    -0.5746     0.5657     -0.1251      0.0684\n",
            "carbone intensity           0.0774     0.1322     0.5854     0.5583     -0.1819      0.3367\n",
            "===========================================================================================\n",
            "\n",
            "F-test for Poolability: 11.800\n",
            "P-value: 0.0000\n",
            "Distribution: F(268,2270)\n",
            "\n",
            "Included effects: Entity\n",
            "['carbone intensity', 'carbone intensity post', 'event']\n",
            "                           PanelOLS Estimation Summary                           \n",
            "=================================================================================\n",
            "Dep. Variable:     distance to default   R-squared:                        0.5888\n",
            "Estimator:                    PanelOLS   R-squared (Between):              0.0482\n",
            "No. Observations:                 2547   R-squared (Within):               0.5888\n",
            "Date:                 Sat, Oct 15 2022   R-squared (Overall):              0.0800\n",
            "Time:                         04:16:31   Log-likelihood                   -5060.3\n",
            "Cov. Estimator:                 Robust                                           \n",
            "                                         F-statistic:                      324.76\n",
            "Entities:                          269   P-value                           0.0000\n",
            "Avg Obs:                        9.4684   Distribution:                 F(10,2268)\n",
            "Min Obs:                        9.0000                                           \n",
            "Max Obs:                        27.000   F-statistic (robust):             132.05\n",
            "                                         P-value                           0.0000\n",
            "Time periods:                        9   Distribution:                 F(10,2268)\n",
            "Avg Obs:                        283.00                                           \n",
            "Min Obs:                        283.00                                           \n",
            "Max Obs:                        283.00                                           \n",
            "                                                                                 \n",
            "                                    Parameter Estimates                                    \n",
            "===========================================================================================\n",
            "                         Parameter  Std. Err.     T-stat    P-value    Lower CI    Upper CI\n",
            "-------------------------------------------------------------------------------------------\n",
            "log total assets           -1.7241     0.4827    -3.5719     0.0004     -2.6707     -0.7776\n",
            "operating margin           -0.0979     0.0700    -1.3992     0.1619     -0.2351      0.0393\n",
            "working capital ratio       1.0737     0.3576     3.0024     0.0027      0.3724      1.7749\n",
            "retained earnings ratio    -0.1300     0.1056    -1.2318     0.2182     -0.3370      0.0770\n",
            "debt ratio                 -0.5575     0.1495    -3.7301     0.0002     -0.8507     -0.2644\n",
            "volatility                 -2.2038     0.1035    -21.300     0.0000     -2.4067     -2.0009\n",
            "Oil                         0.6263     0.1256     4.9882     0.0000      0.3801      0.8726\n",
            "carbone intensity           0.0129     0.1295     0.0993     0.9209     -0.2412      0.2669\n",
            "carbone intensity post     -0.1236     0.0518    -2.3866     0.0171     -0.2251     -0.0220\n",
            "event                       0.7259     0.1126     6.4468     0.0000      0.5051      0.9467\n",
            "===========================================================================================\n",
            "\n",
            "F-test for Poolability: 12.250\n",
            "P-value: 0.0000\n",
            "Distribution: F(268,2268)\n",
            "\n",
            "Included effects: Entity\n"
          ]
        }
      ]
    },
    {
      "cell_type": "code",
      "source": [
        "for var in [\n",
        "    [\"log carbone emission\"], \n",
        "    [\"carbone intensity\"], \n",
        "    [\"carbone intensity\", \"carbone intensity post\", \"event\"],\n",
        "    ] : \n",
        "    print(var)\n",
        "    model(\n",
        "        data_all=df_truncature[df_truncature.Industry==\"Energy\"], \n",
        "        interets_variable=var,\n",
        "        )"
      ],
      "metadata": {
        "id": "aENA3gyo3V2m",
        "colab": {
          "base_uri": "https://localhost:8080/"
        },
        "outputId": "57fe1bea-f2ec-4360-ab04-d1e29af4bf19"
      },
      "execution_count": null,
      "outputs": [
        {
          "output_type": "stream",
          "name": "stdout",
          "text": [
            "['log carbone emission']\n",
            "                           PanelOLS Estimation Summary                           \n",
            "=================================================================================\n",
            "Dep. Variable:     distance to default   R-squared:                        0.6871\n",
            "Estimator:                    PanelOLS   R-squared (Between):              0.6366\n",
            "No. Observations:                  243   R-squared (Within):               0.7141\n",
            "Date:                 Sat, Oct 15 2022   R-squared (Overall):              0.6871\n",
            "Time:                         05:15:35   Log-likelihood                   -525.49\n",
            "Cov. Estimator:                 Robust                                           \n",
            "                                         F-statistic:                      64.231\n",
            "Entities:                           24   P-value                           0.0000\n",
            "Avg Obs:                        10.125   Distribution:                   F(8,234)\n",
            "Min Obs:                        9.0000                                           \n",
            "Max Obs:                        18.000   F-statistic (robust):             34.666\n",
            "                                         P-value                           0.0000\n",
            "Time periods:                        9   Distribution:                   F(8,234)\n",
            "Avg Obs:                        27.000                                           \n",
            "Min Obs:                        27.000                                           \n",
            "Max Obs:                        27.000                                           \n",
            "                                                                                 \n",
            "                                    Parameter Estimates                                    \n",
            "===========================================================================================\n",
            "                         Parameter  Std. Err.     T-stat    P-value    Lower CI    Upper CI\n",
            "-------------------------------------------------------------------------------------------\n",
            "const                       7.9159     0.1375     57.568     0.0000      7.6450      8.1868\n",
            "log total assets           -0.5000     0.1468    -3.4049     0.0008     -0.7892     -0.2107\n",
            "operating margin            0.1354     0.1088     1.2443     0.2146     -0.0790      0.3499\n",
            "working capital ratio      -0.4135     0.1294    -3.1958     0.0016     -0.6684     -0.1586\n",
            "retained earnings ratio    -0.6132     0.1958    -3.1315     0.0020     -0.9989     -0.2274\n",
            "debt ratio                 -0.7961     0.2214    -3.5956     0.0004     -1.2323     -0.3599\n",
            "volatility                 -2.7940     0.2379    -11.744     0.0000     -3.2627     -2.3253\n",
            "Oil                         0.2878     0.1637     1.7581     0.0800     -0.0347      0.6102\n",
            "log carbone emission        0.0541     0.1795     0.3016     0.7632     -0.2995      0.4077\n",
            "===========================================================================================\n",
            "\n",
            "\n",
            "['carbone intensity']\n",
            "                           PanelOLS Estimation Summary                           \n",
            "=================================================================================\n",
            "Dep. Variable:     distance to default   R-squared:                        0.6892\n",
            "Estimator:                    PanelOLS   R-squared (Between):              0.6469\n",
            "No. Observations:                  243   R-squared (Within):               0.7127\n",
            "Date:                 Sat, Oct 15 2022   R-squared (Overall):              0.6892\n",
            "Time:                         05:15:35   Log-likelihood                   -524.68\n",
            "Cov. Estimator:                 Robust                                           \n",
            "                                         F-statistic:                      64.857\n",
            "Entities:                           24   P-value                           0.0000\n",
            "Avg Obs:                        10.125   Distribution:                   F(8,234)\n",
            "Min Obs:                        9.0000                                           \n",
            "Max Obs:                        18.000   F-statistic (robust):             34.596\n",
            "                                         P-value                           0.0000\n",
            "Time periods:                        9   Distribution:                   F(8,234)\n",
            "Avg Obs:                        27.000                                           \n",
            "Min Obs:                        27.000                                           \n",
            "Max Obs:                        27.000                                           \n",
            "                                                                                 \n",
            "                                    Parameter Estimates                                    \n",
            "===========================================================================================\n",
            "                         Parameter  Std. Err.     T-stat    P-value    Lower CI    Upper CI\n",
            "-------------------------------------------------------------------------------------------\n",
            "const                       7.9159     0.1370     57.760     0.0000      7.6459      8.1859\n",
            "log total assets           -0.6127     0.1664    -3.6822     0.0003     -0.9405     -0.2849\n",
            "operating margin            0.1252     0.1069     1.1706     0.2429     -0.0855      0.3358\n",
            "working capital ratio      -0.4814     0.1369    -3.5175     0.0005     -0.7511     -0.2118\n",
            "retained earnings ratio    -0.6156     0.1951    -3.1549     0.0018     -1.0000     -0.2312\n",
            "debt ratio                 -0.9276     0.2074    -4.4728     0.0000     -1.3361     -0.5190\n",
            "volatility                 -2.7836     0.2388    -11.658     0.0000     -3.2540     -2.3132\n",
            "Oil                         0.2331     0.1566     1.4882     0.1380     -0.0755      0.5416\n",
            "carbone intensity          -0.2189     0.1344    -1.6283     0.1048     -0.4838      0.0460\n",
            "===========================================================================================\n",
            "\n",
            "\n",
            "['carbone intensity', 'carbone intensity post', 'event']\n"
          ]
        },
        {
          "output_type": "stream",
          "name": "stderr",
          "text": [
            "/usr/local/lib/python3.7/dist-packages/statsmodels/tsa/tsatools.py:142: FutureWarning: In a future version of pandas all arguments of concat except for the argument 'objs' will be keyword-only\n",
            "  x = pd.concat(x[::order], 1)\n",
            "/usr/local/lib/python3.7/dist-packages/statsmodels/tsa/tsatools.py:142: FutureWarning: In a future version of pandas all arguments of concat except for the argument 'objs' will be keyword-only\n",
            "  x = pd.concat(x[::order], 1)\n",
            "/usr/local/lib/python3.7/dist-packages/statsmodels/tsa/tsatools.py:142: FutureWarning: In a future version of pandas all arguments of concat except for the argument 'objs' will be keyword-only\n",
            "  x = pd.concat(x[::order], 1)\n"
          ]
        },
        {
          "output_type": "stream",
          "name": "stdout",
          "text": [
            "                           PanelOLS Estimation Summary                           \n",
            "=================================================================================\n",
            "Dep. Variable:     distance to default   R-squared:                        0.6971\n",
            "Estimator:                    PanelOLS   R-squared (Between):              0.6551\n",
            "No. Observations:                  243   R-squared (Within):               0.7200\n",
            "Date:                 Sat, Oct 15 2022   R-squared (Overall):              0.6971\n",
            "Time:                         05:15:35   Log-likelihood                   -521.56\n",
            "Cov. Estimator:                 Robust                                           \n",
            "                                         F-statistic:                      53.383\n",
            "Entities:                           24   P-value                           0.0000\n",
            "Avg Obs:                        10.125   Distribution:                  F(10,232)\n",
            "Min Obs:                        9.0000                                           \n",
            "Max Obs:                        18.000   F-statistic (robust):             28.574\n",
            "                                         P-value                           0.0000\n",
            "Time periods:                        9   Distribution:                  F(10,232)\n",
            "Avg Obs:                        27.000                                           \n",
            "Min Obs:                        27.000                                           \n",
            "Max Obs:                        27.000                                           \n",
            "                                                                                 \n",
            "                                    Parameter Estimates                                    \n",
            "===========================================================================================\n",
            "                         Parameter  Std. Err.     T-stat    P-value    Lower CI    Upper CI\n",
            "-------------------------------------------------------------------------------------------\n",
            "const                       7.9159     0.1359     58.255     0.0000      7.6482      8.1836\n",
            "log total assets           -0.6602     0.1709    -3.8631     0.0001     -0.9969     -0.3235\n",
            "operating margin            0.1436     0.1072     1.3399     0.1816     -0.0676      0.3548\n",
            "working capital ratio      -0.4931     0.1400    -3.5226     0.0005     -0.7689     -0.2173\n",
            "retained earnings ratio    -0.6158     0.1960    -3.1420     0.0019     -1.0019     -0.2297\n",
            "debt ratio                 -0.9125     0.2027    -4.5024     0.0000     -1.3118     -0.5132\n",
            "volatility                 -2.9886     0.2682    -11.144     0.0000     -3.5170     -2.4603\n",
            "Oil                        -0.5626     0.3842    -1.4644     0.1444     -1.3196      0.1944\n",
            "carbone intensity          -0.4831     0.1980    -2.4404     0.0154     -0.8731     -0.0931\n",
            "carbone intensity post      0.3926     0.2301     1.7064     0.0893     -0.0607      0.8459\n",
            "event                      -0.9503     0.3953    -2.4040     0.0170     -1.7291     -0.1715\n",
            "===========================================================================================\n",
            "\n",
            "\n"
          ]
        }
      ]
    },
    {
      "cell_type": "code",
      "source": [
        "df_graph = df_truncature[[\"Industry\", \"carbone emission\"]].groupby(\"Industry\").mean().reset_index()"
      ],
      "metadata": {
        "id": "KeQJEofnETLr"
      },
      "execution_count": null,
      "outputs": []
    },
    {
      "cell_type": "code",
      "source": [
        "fig, ax = plt.subplots(1, 1, figsize=(14, 8))\n",
        "\n",
        "ax.tick_params(axis='x', rotation=45, colors=\"white\")\n",
        "ax.tick_params(axis='y', colors=\"white\")\n",
        "ax.spines['bottom'].set_color('white')\n",
        "ax.spines['top'].set_color('white')\n",
        "ax.spines['right'].set_color('white')\n",
        "ax.spines['left'].set_color('white')\n",
        "ax.set_ylabel(\"Emission carbone\", color=\"white\")\n",
        "ax.set_xlabel(\"Industrie\", color=\"white\")\n",
        "ax.set_title(\n",
        "    \"Emission carbone par secteur d'industrie\", \n",
        "    fontsize=16, fontweight=\"bold\", color=\"white\"\n",
        "    )\n",
        "\n",
        "sns.barplot(data=df_graph, x=\"Industry\", y=\"carbone emission\", ax=ax)\n"
      ],
      "metadata": {
        "colab": {
          "base_uri": "https://localhost:8080/",
          "height": 612
        },
        "id": "lmkvFIRiG8v5",
        "outputId": "bf500601-c923-4f27-c818-df169de274c3"
      },
      "execution_count": null,
      "outputs": [
        {
          "output_type": "execute_result",
          "data": {
            "text/plain": [
              "<matplotlib.axes._subplots.AxesSubplot at 0x7fb9c81af8d0>"
            ]
          },
          "metadata": {},
          "execution_count": 187
        },
        {
          "output_type": "display_data",
          "data": {
            "text/plain": [
              "<Figure size 1008x576 with 1 Axes>"
            ],
            "image/png": "[encoded data removed]"
          },
          "metadata": {
            "needs_background": "dark"
          }
        }
      ]
    },
    {
      "cell_type": "code",
      "source": [
        "df_truncature.to_csv(\"/content/gdrive/MyDrive/Hackathon_EFI/Clean Data/data_model.csv\")"
      ],
      "metadata": {
        "id": "ISqJj9xWHiNX"
      },
      "execution_count": null,
      "outputs": []
    },
    {
      "cell_type": "code",
      "source": [
        "path"
      ],
      "metadata": {
        "colab": {
          "base_uri": "https://localhost:8080/",
          "height": 35
        },
        "id": "N536ntE4NWu2",
        "outputId": "415bef73-1638-4605-dd50-c2088e9fc537"
      },
      "execution_count": null,
      "outputs": [
        {
          "output_type": "execute_result",
          "data": {
            "text/plain": [
              "'/content/gdrive/MyDrive/Hackathon_EFI/Clean Data/Sample 2007-2017/Distance to default.xlsx'"
            ],
            "application/vnd.google.colaboratory.intrinsic+json": {
              "type": "string"
            }
          },
          "metadata": {},
          "execution_count": 188
        }
      ]
    },
    {
      "cell_type": "code",
      "source": [
        "for var in [\n",
        "    [\"log carbone emission\"], \n",
        "    [\"carbone intensity\"], \n",
        "    [\"carbone intensity\", \"carbone intensity post\", \"event\"],\n",
        "    ] : \n",
        "    print(var)\n",
        "    model(\n",
        "        data_all=df_truncature[df_truncature.Industry==\"Energy\"], \n",
        "        interets_variable=var,\n",
        "        control_variables=[\n",
        "          \"log total assets\", \n",
        "          \"operating margin\", \n",
        "          \"working capital ratio\", \n",
        "          \"retained earnings ratio\",\n",
        "          \"debt ratio\",\n",
        "          \"volatility\",\n",
        "          \"Oil\",\n",
        "          \"Natural Gas\"],\n",
        "        cst=True, \n",
        "        cov=\"robust\",\n",
        "        entity=False, \n",
        "    )"
      ],
      "metadata": {
        "colab": {
          "base_uri": "https://localhost:8080/"
        },
        "id": "LxTyzQARNXE_",
        "outputId": "9737760d-50c4-4f02-c271-329b048dd421"
      },
      "execution_count": null,
      "outputs": [
        {
          "output_type": "stream",
          "name": "stdout",
          "text": [
            "['log carbone emission']\n"
          ]
        },
        {
          "output_type": "stream",
          "name": "stderr",
          "text": [
            "/usr/local/lib/python3.7/dist-packages/statsmodels/tsa/tsatools.py:142: FutureWarning: In a future version of pandas all arguments of concat except for the argument 'objs' will be keyword-only\n",
            "  x = pd.concat(x[::order], 1)\n"
          ]
        },
        {
          "output_type": "stream",
          "name": "stdout",
          "text": [
            "                           PanelOLS Estimation Summary                           \n",
            "=================================================================================\n",
            "Dep. Variable:     distance to default   R-squared:                        0.7056\n",
            "Estimator:                    PanelOLS   R-squared (Between):              0.6221\n",
            "No. Observations:                  243   R-squared (Within):               0.7474\n",
            "Date:                 Sat, Oct 15 2022   R-squared (Overall):              0.7056\n",
            "Time:                         06:15:39   Log-likelihood                   -518.08\n",
            "Cov. Estimator:                 Robust                                           \n",
            "                                         F-statistic:                      62.052\n",
            "Entities:                           24   P-value                           0.0000\n",
            "Avg Obs:                        10.125   Distribution:                   F(9,233)\n",
            "Min Obs:                        9.0000                                           \n",
            "Max Obs:                        18.000   F-statistic (robust):             42.970\n",
            "                                         P-value                           0.0000\n",
            "Time periods:                        9   Distribution:                   F(9,233)\n",
            "Avg Obs:                        27.000                                           \n",
            "Min Obs:                        27.000                                           \n",
            "Max Obs:                        27.000                                           \n",
            "                                                                                 \n",
            "                                    Parameter Estimates                                    \n",
            "===========================================================================================\n",
            "                         Parameter  Std. Err.     T-stat    P-value    Lower CI    Upper CI\n",
            "-------------------------------------------------------------------------------------------\n",
            "const                       7.9159     0.1337     59.222     0.0000      7.6526      8.1793\n",
            "log total assets           -0.3960     0.1636    -2.4211     0.0162     -0.7183     -0.0738\n",
            "operating margin            0.1473     0.1018     1.4461     0.1495     -0.0534      0.3479\n",
            "working capital ratio      -0.4446     0.1276    -3.4847     0.0006     -0.6960     -0.1933\n",
            "retained earnings ratio    -0.5419     0.1748    -3.0999     0.0022     -0.8862     -0.1975\n",
            "debt ratio                 -0.7456     0.2151    -3.4672     0.0006     -1.1693     -0.3219\n",
            "volatility                 -2.4045     0.2576    -9.3348     0.0000     -2.9120     -1.8970\n",
            "Oil                         0.0440     0.1538     0.2861     0.7751     -0.2590      0.3470\n",
            "Natural Gas                 0.7428     0.2188     3.3952     0.0008      0.3118      1.1738\n",
            "log carbone emission        0.1230     0.1808     0.6805     0.4969     -0.2332      0.4792\n",
            "===========================================================================================\n",
            "\n",
            "\n",
            "['carbone intensity']\n"
          ]
        },
        {
          "output_type": "stream",
          "name": "stderr",
          "text": [
            "/usr/local/lib/python3.7/dist-packages/statsmodels/tsa/tsatools.py:142: FutureWarning: In a future version of pandas all arguments of concat except for the argument 'objs' will be keyword-only\n",
            "  x = pd.concat(x[::order], 1)\n"
          ]
        },
        {
          "output_type": "stream",
          "name": "stdout",
          "text": [
            "                           PanelOLS Estimation Summary                           \n",
            "=================================================================================\n",
            "Dep. Variable:     distance to default   R-squared:                        0.7082\n",
            "Estimator:                    PanelOLS   R-squared (Between):              0.6311\n",
            "No. Observations:                  243   R-squared (Within):               0.7467\n",
            "Date:                 Sat, Oct 15 2022   R-squared (Overall):              0.7082\n",
            "Time:                         06:15:39   Log-likelihood                   -517.03\n",
            "Cov. Estimator:                 Robust                                           \n",
            "                                         F-statistic:                      62.819\n",
            "Entities:                           24   P-value                           0.0000\n",
            "Avg Obs:                        10.125   Distribution:                   F(9,233)\n",
            "Min Obs:                        9.0000                                           \n",
            "Max Obs:                        18.000   F-statistic (robust):             41.829\n",
            "                                         P-value                           0.0000\n",
            "Time periods:                        9   Distribution:                   F(9,233)\n",
            "Avg Obs:                        27.000                                           \n",
            "Min Obs:                        27.000                                           \n",
            "Max Obs:                        27.000                                           \n",
            "                                                                                 \n",
            "                                    Parameter Estimates                                    \n",
            "===========================================================================================\n",
            "                         Parameter  Std. Err.     T-stat    P-value    Lower CI    Upper CI\n",
            "-------------------------------------------------------------------------------------------\n",
            "const                       7.9159     0.1331     59.480     0.0000      7.6537      8.1781\n",
            "log total assets           -0.5165     0.1804    -2.8630     0.0046     -0.8720     -0.1611\n",
            "operating margin            0.1394     0.1013     1.3766     0.1700     -0.0601      0.3389\n",
            "working capital ratio      -0.5284     0.1358    -3.8921     0.0001     -0.7959     -0.2609\n",
            "retained earnings ratio    -0.5636     0.1729    -3.2602     0.0013     -0.9042     -0.2230\n",
            "debt ratio                 -0.9392     0.2058    -4.5631     0.0000     -1.3447     -0.5337\n",
            "volatility                 -2.3910     0.2594    -9.2184     0.0000     -2.9020     -1.8800\n",
            "Oil                        -0.0323     0.1485    -0.2172     0.8282     -0.3248      0.2603\n",
            "Natural Gas                 0.7504     0.2154     3.4845     0.0006      0.3261      1.1748\n",
            "carbone intensity          -0.2593     0.1333    -1.9449     0.0530     -0.5220      0.0034\n",
            "===========================================================================================\n",
            "\n",
            "\n",
            "['carbone intensity', 'carbone intensity post', 'event']\n",
            "                           PanelOLS Estimation Summary                           \n",
            "=================================================================================\n",
            "Dep. Variable:     distance to default   R-squared:                        0.7098\n",
            "Estimator:                    PanelOLS   R-squared (Between):              0.6373\n",
            "No. Observations:                  243   R-squared (Within):               0.7460\n",
            "Date:                 Sat, Oct 15 2022   R-squared (Overall):              0.7098\n",
            "Time:                         06:15:40   Log-likelihood                   -516.35\n",
            "Cov. Estimator:                 Robust                                           \n",
            "                                         F-statistic:                      51.357\n",
            "Entities:                           24   P-value                           0.0000\n",
            "Avg Obs:                        10.125   Distribution:                  F(11,231)\n",
            "Min Obs:                        9.0000                                           \n",
            "Max Obs:                        18.000   F-statistic (robust):             37.648\n",
            "                                         P-value                           0.0000\n",
            "Time periods:                        9   Distribution:                  F(11,231)\n",
            "Avg Obs:                        27.000                                           \n",
            "Min Obs:                        27.000                                           \n",
            "Max Obs:                        27.000                                           \n",
            "                                                                                 \n",
            "                                    Parameter Estimates                                    \n",
            "===========================================================================================\n",
            "                         Parameter  Std. Err.     T-stat    P-value    Lower CI    Upper CI\n",
            "-------------------------------------------------------------------------------------------\n",
            "const                       7.9159     0.1333     59.389     0.0000      7.6533      8.1785\n",
            "log total assets           -0.5343     0.1895    -2.8187     0.0052     -0.9077     -0.1608\n",
            "operating margin            0.1507     0.1018     1.4809     0.1400     -0.0498      0.3513\n",
            "working capital ratio      -0.5372     0.1396    -3.8484     0.0002     -0.8122     -0.2622\n",
            "retained earnings ratio    -0.5553     0.1797    -3.0907     0.0022     -0.9093     -0.2013\n",
            "debt ratio                 -0.9298     0.2064    -4.5039     0.0000     -1.3365     -0.5230\n",
            "volatility                 -2.4850     0.3215    -7.7298     0.0000     -3.1184     -1.8516\n",
            "Oil                        -0.2327     0.3630    -0.6412     0.5220     -0.9479      0.4824\n",
            "Natural Gas                 0.6882     0.2297     2.9956     0.0030      0.2356      1.1408\n",
            "carbone intensity          -0.4844     0.1775    -2.7289     0.0068     -0.8341     -0.1347\n",
            "carbone intensity post      0.3224     0.2158     1.4938     0.1366     -0.1028      0.7477\n",
            "event                      -0.3582     0.4013    -0.8926     0.3730     -1.1489      0.4325\n",
            "===========================================================================================\n",
            "\n",
            "\n"
          ]
        },
        {
          "output_type": "stream",
          "name": "stderr",
          "text": [
            "/usr/local/lib/python3.7/dist-packages/statsmodels/tsa/tsatools.py:142: FutureWarning: In a future version of pandas all arguments of concat except for the argument 'objs' will be keyword-only\n",
            "  x = pd.concat(x[::order], 1)\n"
          ]
        }
      ]
    },
    {
      "cell_type": "code",
      "source": [
        "df_truncature.loc[df_truncature.Industry==\"Energy\",[\"Date\", \"carbone emission\"]].groupby(\"Date\").mean()"
      ],
      "metadata": {
        "colab": {
          "base_uri": "https://localhost:8080/",
          "height": 363
        },
        "id": "jYduRr50N5oY",
        "outputId": "5b3626b6-d968-46bc-c0d8-52b03b483b66"
      },
      "execution_count": null,
      "outputs": [
        {
          "output_type": "execute_result",
          "data": {
            "text/plain": [
              "            carbone emission\n",
              "Date                        \n",
              "2012-03-31      26864.934444\n",
              "2013-03-31      25300.073000\n",
              "2014-03-31      24952.257815\n",
              "2015-03-31      24361.519963\n",
              "2016-03-31      23691.015963\n",
              "2017-03-31      23659.756667\n",
              "2018-03-31      24140.153704\n",
              "2019-03-31      24356.788852\n",
              "2020-03-31      24601.306630"
            ],
            "text/html": [
              "\n",
              "  <div id=\"df-43f658ad-8df8-4e04-8988-33989486487a\">\n",
              "    <div class=\"colab-df-container\">\n",
              "      <div>\n",
              "<style scoped>\n",
              "    .dataframe tbody tr th:only-of-type {\n",
              "        vertical-align: middle;\n",
              "    }\n",
              "\n",
              "    .dataframe tbody tr th {\n",
              "        vertical-align: top;\n",
              "    }\n",
              "\n",
              "    .dataframe thead th {\n",
              "        text-align: right;\n",
              "    }\n",
              "</style>\n",
              "<table border=\"1\" class=\"dataframe\">\n",
              "  <thead>\n",
              "    <tr style=\"text-align: right;\">\n",
              "      <th></th>\n",
              "      <th>carbone emission</th>\n",
              "    </tr>\n",
              "    <tr>\n",
              "      <th>Date</th>\n",
              "      <th></th>\n",
              "    </tr>\n",
              "  </thead>\n",
              "  <tbody>\n",
              "    <tr>\n",
              "      <th>2012-03-31</th>\n",
              "      <td>26864.934444</td>\n",
              "    </tr>\n",
              "    <tr>\n",
              "      <th>2013-03-31</th>\n",
              "      <td>25300.073000</td>\n",
              "    </tr>\n",
              "    <tr>\n",
              "      <th>2014-03-31</th>\n",
              "      <td>24952.257815</td>\n",
              "    </tr>\n",
              "    <tr>\n",
              "      <th>2015-03-31</th>\n",
              "      <td>24361.519963</td>\n",
              "    </tr>\n",
              "    <tr>\n",
              "      <th>2016-03-31</th>\n",
              "      <td>23691.015963</td>\n",
              "    </tr>\n",
              "    <tr>\n",
              "      <th>2017-03-31</th>\n",
              "      <td>23659.756667</td>\n",
              "    </tr>\n",
              "    <tr>\n",
              "      <th>2018-03-31</th>\n",
              "      <td>24140.153704</td>\n",
              "    </tr>\n",
              "    <tr>\n",
              "      <th>2019-03-31</th>\n",
              "      <td>24356.788852</td>\n",
              "    </tr>\n",
              "    <tr>\n",
              "      <th>2020-03-31</th>\n",
              "      <td>24601.306630</td>\n",
              "    </tr>\n",
              "  </tbody>\n",
              "</table>\n",
              "</div>\n",
              "      <button class=\"colab-df-convert\" onclick=\"convertToInteractive('df-43f658ad-8df8-4e04-8988-33989486487a')\"\n",
              "              title=\"Convert this dataframe to an interactive table.\"\n",
              "              style=\"display:none;\">\n",
              "        \n",
              "  <svg xmlns=\"http://www.w3.org/2000/svg\" height=\"24px\"viewBox=\"0 0 24 24\"\n",
              "       width=\"24px\">\n",
              "    <path d=\"M0 0h24v24H0V0z\" fill=\"none\"/>\n",
              "    <path d=\"M18.56 5.44l.94 2.06.94-2.06 2.06-.94-2.06-.94-.94-2.06-.94 2.06-2.06.94zm-11 1L8.5 8.5l.94-2.06 2.06-.94-2.06-.94L8.5 2.5l-.94 2.06-2.06.94zm10 10l.94 2.06.94-2.06 2.06-.94-2.06-.94-.94-2.06-.94 2.06-2.06.94z\"/><path d=\"M17.41 7.96l-1.37-1.37c-.4-.4-.92-.59-1.43-.59-.52 0-1.04.2-1.43.59L10.3 9.45l-7.72 7.72c-.78.78-.78 2.05 0 2.83L4 21.41c.39.39.9.59 1.41.59.51 0 1.02-.2 1.41-.59l7.78-7.78 2.81-2.81c.8-.78.8-2.07 0-2.86zM5.41 20L4 18.59l7.72-7.72 1.47 1.35L5.41 20z\"/>\n",
              "  </svg>\n",
              "      </button>\n",
              "      \n",
              "  <style>\n",
              "    .colab-df-container {\n",
              "      display:flex;\n",
              "      flex-wrap:wrap;\n",
              "      gap: 12px;\n",
              "    }\n",
              "\n",
              "    .colab-df-convert {\n",
              "      background-color: #E8F0FE;\n",
              "      border: none;\n",
              "      border-radius: 50%;\n",
              "      cursor: pointer;\n",
              "      display: none;\n",
              "      fill: #1967D2;\n",
              "      height: 32px;\n",
              "      padding: 0 0 0 0;\n",
              "      width: 32px;\n",
              "    }\n",
              "\n",
              "    .colab-df-convert:hover {\n",
              "      background-color: #E2EBFA;\n",
              "      box-shadow: 0px 1px 2px rgba(60, 64, 67, 0.3), 0px 1px 3px 1px rgba(60, 64, 67, 0.15);\n",
              "      fill: #174EA6;\n",
              "    }\n",
              "\n",
              "    [theme=dark] .colab-df-convert {\n",
              "      background-color: #3B4455;\n",
              "      fill: #D2E3FC;\n",
              "    }\n",
              "\n",
              "    [theme=dark] .colab-df-convert:hover {\n",
              "      background-color: #434B5C;\n",
              "      box-shadow: 0px 1px 3px 1px rgba(0, 0, 0, 0.15);\n",
              "      filter: drop-shadow(0px 1px 2px rgba(0, 0, 0, 0.3));\n",
              "      fill: #FFFFFF;\n",
              "    }\n",
              "  </style>\n",
              "\n",
              "      <script>\n",
              "        const buttonEl =\n",
              "          document.querySelector('#df-43f658ad-8df8-4e04-8988-33989486487a button.colab-df-convert');\n",
              "        buttonEl.style.display =\n",
              "          google.colab.kernel.accessAllowed ? 'block' : 'none';\n",
              "\n",
              "        async function convertToInteractive(key) {\n",
              "          const element = document.querySelector('#df-43f658ad-8df8-4e04-8988-33989486487a');\n",
              "          const dataTable =\n",
              "            await google.colab.kernel.invokeFunction('convertToInteractive',\n",
              "                                                     [key], {});\n",
              "          if (!dataTable) return;\n",
              "\n",
              "          const docLinkHtml = 'Like what you see? Visit the ' +\n",
              "            '<a target=\"_blank\" href=https://colab.research.google.com/notebooks/data_table.ipynb>data table notebook</a>'\n",
              "            + ' to learn more about interactive tables.';\n",
              "          element.innerHTML = '';\n",
              "          dataTable['output_type'] = 'display_data';\n",
              "          await google.colab.output.renderOutput(dataTable, element);\n",
              "          const docLink = document.createElement('div');\n",
              "          docLink.innerHTML = docLinkHtml;\n",
              "          element.appendChild(docLink);\n",
              "        }\n",
              "      </script>\n",
              "    </div>\n",
              "  </div>\n",
              "  "
            ]
          },
          "metadata": {},
          "execution_count": 199
        }
      ]
    },
    {
      "cell_type": "code",
      "source": [],
      "metadata": {
        "id": "eouEAwdlkqeI"
      },
      "execution_count": null,
      "outputs": []
    }
  ]
}