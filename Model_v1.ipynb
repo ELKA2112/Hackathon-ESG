{
  "nbformat": 4,
  "nbformat_minor": 0,
  "metadata": {
    "colab": {
      "provenance": []
    },
    "kernelspec": {
      "name": "python3",
      "display_name": "Python 3"
    },
    "language_info": {
      "name": "python"
    }
  },
  "cells": [
    {
      "cell_type": "code",
      "execution_count": null,
      "metadata": {
        "id": "3BWRQPzVPO6w"
      },
      "outputs": [],
      "source": [
        "import pandas as pd \n",
        "import numpy as np\n",
        "import seaborn as sns\n",
        "import matplotlib.pyplot as plt"
      ]
    },
    {
      "cell_type": "code",
      "source": [
        "from google.colab import drive"
      ],
      "metadata": {
        "id": "hsvUzL-oPVSD"
      },
      "execution_count": null,
      "outputs": []
    },
    {
      "cell_type": "code",
      "source": [
        "drive.mount('/content/gdrive')"
      ],
      "metadata": {
        "colab": {
          "base_uri": "https://localhost:8080/"
        },
        "id": "jz0WCV6oPWfx",
        "outputId": "b2ea9041-ee42-4439-c699-dbd954c93e57"
      },
      "execution_count": null,
      "outputs": [
        {
          "output_type": "stream",
          "name": "stdout",
          "text": [
            "Mounted at /content/gdrive\n"
          ]
        }
      ]
    },
    {
      "cell_type": "code",
      "source": [
        "path = \"/content/gdrive/MyDrive/Hackathon_EFI/Clean Data/data_model.csv\"\n",
        "df = pd.read_csv(path)"
      ],
      "metadata": {
        "id": "d13Qr_0lPYsv"
      },
      "execution_count": null,
      "outputs": []
    },
    {
      "cell_type": "code",
      "source": [
        "df[\"Date\"] = pd.to_datetime(df.Date)\n",
        "df.set_index([\"Ticker\", \"Date\"], inplace=True)"
      ],
      "metadata": {
        "id": "QpyAmKs7Qckg"
      },
      "execution_count": null,
      "outputs": []
    },
    {
      "cell_type": "code",
      "source": [
        "df.head()"
      ],
      "metadata": {
        "colab": {
          "base_uri": "https://localhost:8080/",
          "height": 470
        },
        "id": "0kMVRcJyPjf3",
        "outputId": "7d979141-7d71-4132-ac6d-16682e46edac"
      },
      "execution_count": null,
      "outputs": [
        {
          "output_type": "execute_result",
          "data": {
            "text/plain": [
              "                          carbone emission  distance to default  market cap  \\\n",
              "Ticker        Date                                                            \n",
              "NEM US Equity 2012-03-31            3360.0              8.31311  23133.4917   \n",
              "              2013-03-31            4260.0              7.93557  11467.7674   \n",
              "              2014-03-31            4490.0              4.05449   9427.2379   \n",
              "              2015-03-31            4100.0              4.96930   9518.8237   \n",
              "              2016-03-31            3800.0              4.58135  18082.6546   \n",
              "\n",
              "                          operating margin  total assets  working capital  \\\n",
              "Ticker        Date                                                          \n",
              "NEM US Equity 2012-03-31           19.7142       26111.0           3521.0   \n",
              "              2013-03-31           31.2627       29650.0           2974.0   \n",
              "              2014-03-31          -43.4039       24607.0           2363.0   \n",
              "              2015-03-31           14.5623       24916.0           3317.0   \n",
              "              2016-03-31            7.5103       25130.0           3322.0   \n",
              "\n",
              "                          retained earnings  debt ratio  volatility  \\\n",
              "Ticker        Date                                                    \n",
              "NEM US Equity 2012-03-31            13.9049     21.2355    0.016910   \n",
              "              2013-03-31            15.9553     21.6937    0.014054   \n",
              "              2014-03-31             3.0769     27.2643    0.021378   \n",
              "              2015-03-31             3.5974     25.2012    0.021290   \n",
              "              2016-03-31             4.3294     23.2314    0.027001   \n",
              "\n",
              "                          carbone intensity  ...  log total assets  \\\n",
              "Ticker        Date                           ...                     \n",
              "NEM US Equity 2012-03-31           324.3869  ...         10.170150   \n",
              "              2013-03-31           431.6984  ...         10.297251   \n",
              "              2014-03-31           533.6344  ...         10.110827   \n",
              "              2015-03-31           601.2612  ...         10.123306   \n",
              "              2016-03-31           624.4864  ...         10.131857   \n",
              "\n",
              "                          retained earnings ratio  working capital ratio  \\\n",
              "Ticker        Date                                                         \n",
              "NEM US Equity 2012-03-31                 0.000533               0.134847   \n",
              "              2013-03-31                 0.000538               0.100304   \n",
              "              2014-03-31                 0.000125               0.096030   \n",
              "              2015-03-31                 0.000144               0.133127   \n",
              "              2016-03-31                 0.000172               0.132193   \n",
              "\n",
              "                          log carbone emission ante  \\\n",
              "Ticker        Date                                    \n",
              "NEM US Equity 2012-03-31                   8.119994   \n",
              "              2013-03-31                   8.357259   \n",
              "              2014-03-31                   8.409831   \n",
              "              2015-03-31                   0.000000   \n",
              "              2016-03-31                   0.000000   \n",
              "\n",
              "                          log carbone emission post  \\\n",
              "Ticker        Date                                    \n",
              "NEM US Equity 2012-03-31                   0.000000   \n",
              "              2013-03-31                   0.000000   \n",
              "              2014-03-31                   0.000000   \n",
              "              2015-03-31                   8.318986   \n",
              "              2016-03-31                   8.243019   \n",
              "\n",
              "                          log carbone intensity ante  \\\n",
              "Ticker        Date                                     \n",
              "NEM US Equity 2012-03-31                    5.785015   \n",
              "              2013-03-31                    6.070041   \n",
              "              2014-03-31                    6.281583   \n",
              "              2015-03-31                    0.000000   \n",
              "              2016-03-31                    0.000000   \n",
              "\n",
              "                          log carbone intensity post  event        Country  \\\n",
              "Ticker        Date                                                           \n",
              "NEM US Equity 2012-03-31                    0.000000      0  UNITED STATES   \n",
              "              2013-03-31                    0.000000      0  UNITED STATES   \n",
              "              2014-03-31                    0.000000      0  UNITED STATES   \n",
              "              2015-03-31                    6.400691      1  UNITED STATES   \n",
              "              2016-03-31                    6.438530      0  UNITED STATES   \n",
              "\n",
              "                                 Industry  \n",
              "Ticker        Date                         \n",
              "NEM US Equity 2012-03-31  Basic Materials  \n",
              "              2013-03-31  Basic Materials  \n",
              "              2014-03-31  Basic Materials  \n",
              "              2015-03-31  Basic Materials  \n",
              "              2016-03-31  Basic Materials  \n",
              "\n",
              "[5 rows x 24 columns]"
            ],
            "text/html": [
              "\n",
              "  <div id=\"df-3059afd9-f52f-421c-b2f3-75afc62d231a\">\n",
              "    <div class=\"colab-df-container\">\n",
              "      <div>\n",
              "<style scoped>\n",
              "    .dataframe tbody tr th:only-of-type {\n",
              "        vertical-align: middle;\n",
              "    }\n",
              "\n",
              "    .dataframe tbody tr th {\n",
              "        vertical-align: top;\n",
              "    }\n",
              "\n",
              "    .dataframe thead th {\n",
              "        text-align: right;\n",
              "    }\n",
              "</style>\n",
              "<table border=\"1\" class=\"dataframe\">\n",
              "  <thead>\n",
              "    <tr style=\"text-align: right;\">\n",
              "      <th></th>\n",
              "      <th></th>\n",
              "      <th>carbone emission</th>\n",
              "      <th>distance to default</th>\n",
              "      <th>market cap</th>\n",
              "      <th>operating margin</th>\n",
              "      <th>total assets</th>\n",
              "      <th>working capital</th>\n",
              "      <th>retained earnings</th>\n",
              "      <th>debt ratio</th>\n",
              "      <th>volatility</th>\n",
              "      <th>carbone intensity</th>\n",
              "      <th>...</th>\n",
              "      <th>log total assets</th>\n",
              "      <th>retained earnings ratio</th>\n",
              "      <th>working capital ratio</th>\n",
              "      <th>log carbone emission ante</th>\n",
              "      <th>log carbone emission post</th>\n",
              "      <th>log carbone intensity ante</th>\n",
              "      <th>log carbone intensity post</th>\n",
              "      <th>event</th>\n",
              "      <th>Country</th>\n",
              "      <th>Industry</th>\n",
              "    </tr>\n",
              "    <tr>\n",
              "      <th>Ticker</th>\n",
              "      <th>Date</th>\n",
              "      <th></th>\n",
              "      <th></th>\n",
              "      <th></th>\n",
              "      <th></th>\n",
              "      <th></th>\n",
              "      <th></th>\n",
              "      <th></th>\n",
              "      <th></th>\n",
              "      <th></th>\n",
              "      <th></th>\n",
              "      <th></th>\n",
              "      <th></th>\n",
              "      <th></th>\n",
              "      <th></th>\n",
              "      <th></th>\n",
              "      <th></th>\n",
              "      <th></th>\n",
              "      <th></th>\n",
              "      <th></th>\n",
              "      <th></th>\n",
              "      <th></th>\n",
              "    </tr>\n",
              "  </thead>\n",
              "  <tbody>\n",
              "    <tr>\n",
              "      <th rowspan=\"5\" valign=\"top\">NEM US Equity</th>\n",
              "      <th>2012-03-31</th>\n",
              "      <td>3360.0</td>\n",
              "      <td>8.31311</td>\n",
              "      <td>23133.4917</td>\n",
              "      <td>19.7142</td>\n",
              "      <td>26111.0</td>\n",
              "      <td>3521.0</td>\n",
              "      <td>13.9049</td>\n",
              "      <td>21.2355</td>\n",
              "      <td>0.016910</td>\n",
              "      <td>324.3869</td>\n",
              "      <td>...</td>\n",
              "      <td>10.170150</td>\n",
              "      <td>0.000533</td>\n",
              "      <td>0.134847</td>\n",
              "      <td>8.119994</td>\n",
              "      <td>0.000000</td>\n",
              "      <td>5.785015</td>\n",
              "      <td>0.000000</td>\n",
              "      <td>0</td>\n",
              "      <td>UNITED STATES</td>\n",
              "      <td>Basic Materials</td>\n",
              "    </tr>\n",
              "    <tr>\n",
              "      <th>2013-03-31</th>\n",
              "      <td>4260.0</td>\n",
              "      <td>7.93557</td>\n",
              "      <td>11467.7674</td>\n",
              "      <td>31.2627</td>\n",
              "      <td>29650.0</td>\n",
              "      <td>2974.0</td>\n",
              "      <td>15.9553</td>\n",
              "      <td>21.6937</td>\n",
              "      <td>0.014054</td>\n",
              "      <td>431.6984</td>\n",
              "      <td>...</td>\n",
              "      <td>10.297251</td>\n",
              "      <td>0.000538</td>\n",
              "      <td>0.100304</td>\n",
              "      <td>8.357259</td>\n",
              "      <td>0.000000</td>\n",
              "      <td>6.070041</td>\n",
              "      <td>0.000000</td>\n",
              "      <td>0</td>\n",
              "      <td>UNITED STATES</td>\n",
              "      <td>Basic Materials</td>\n",
              "    </tr>\n",
              "    <tr>\n",
              "      <th>2014-03-31</th>\n",
              "      <td>4490.0</td>\n",
              "      <td>4.05449</td>\n",
              "      <td>9427.2379</td>\n",
              "      <td>-43.4039</td>\n",
              "      <td>24607.0</td>\n",
              "      <td>2363.0</td>\n",
              "      <td>3.0769</td>\n",
              "      <td>27.2643</td>\n",
              "      <td>0.021378</td>\n",
              "      <td>533.6344</td>\n",
              "      <td>...</td>\n",
              "      <td>10.110827</td>\n",
              "      <td>0.000125</td>\n",
              "      <td>0.096030</td>\n",
              "      <td>8.409831</td>\n",
              "      <td>0.000000</td>\n",
              "      <td>6.281583</td>\n",
              "      <td>0.000000</td>\n",
              "      <td>0</td>\n",
              "      <td>UNITED STATES</td>\n",
              "      <td>Basic Materials</td>\n",
              "    </tr>\n",
              "    <tr>\n",
              "      <th>2015-03-31</th>\n",
              "      <td>4100.0</td>\n",
              "      <td>4.96930</td>\n",
              "      <td>9518.8237</td>\n",
              "      <td>14.5623</td>\n",
              "      <td>24916.0</td>\n",
              "      <td>3317.0</td>\n",
              "      <td>3.5974</td>\n",
              "      <td>25.2012</td>\n",
              "      <td>0.021290</td>\n",
              "      <td>601.2612</td>\n",
              "      <td>...</td>\n",
              "      <td>10.123306</td>\n",
              "      <td>0.000144</td>\n",
              "      <td>0.133127</td>\n",
              "      <td>0.000000</td>\n",
              "      <td>8.318986</td>\n",
              "      <td>0.000000</td>\n",
              "      <td>6.400691</td>\n",
              "      <td>1</td>\n",
              "      <td>UNITED STATES</td>\n",
              "      <td>Basic Materials</td>\n",
              "    </tr>\n",
              "    <tr>\n",
              "      <th>2016-03-31</th>\n",
              "      <td>3800.0</td>\n",
              "      <td>4.58135</td>\n",
              "      <td>18082.6546</td>\n",
              "      <td>7.5103</td>\n",
              "      <td>25130.0</td>\n",
              "      <td>3322.0</td>\n",
              "      <td>4.3294</td>\n",
              "      <td>23.2314</td>\n",
              "      <td>0.027001</td>\n",
              "      <td>624.4864</td>\n",
              "      <td>...</td>\n",
              "      <td>10.131857</td>\n",
              "      <td>0.000172</td>\n",
              "      <td>0.132193</td>\n",
              "      <td>0.000000</td>\n",
              "      <td>8.243019</td>\n",
              "      <td>0.000000</td>\n",
              "      <td>6.438530</td>\n",
              "      <td>0</td>\n",
              "      <td>UNITED STATES</td>\n",
              "      <td>Basic Materials</td>\n",
              "    </tr>\n",
              "  </tbody>\n",
              "</table>\n",
              "<p>5 rows × 24 columns</p>\n",
              "</div>\n",
              "      <button class=\"colab-df-convert\" onclick=\"convertToInteractive('df-3059afd9-f52f-421c-b2f3-75afc62d231a')\"\n",
              "              title=\"Convert this dataframe to an interactive table.\"\n",
              "              style=\"display:none;\">\n",
              "        \n",
              "  <svg xmlns=\"http://www.w3.org/2000/svg\" height=\"24px\"viewBox=\"0 0 24 24\"\n",
              "       width=\"24px\">\n",
              "    <path d=\"M0 0h24v24H0V0z\" fill=\"none\"/>\n",
              "    <path d=\"M18.56 5.44l.94 2.06.94-2.06 2.06-.94-2.06-.94-.94-2.06-.94 2.06-2.06.94zm-11 1L8.5 8.5l.94-2.06 2.06-.94-2.06-.94L8.5 2.5l-.94 2.06-2.06.94zm10 10l.94 2.06.94-2.06 2.06-.94-2.06-.94-.94-2.06-.94 2.06-2.06.94z\"/><path d=\"M17.41 7.96l-1.37-1.37c-.4-.4-.92-.59-1.43-.59-.52 0-1.04.2-1.43.59L10.3 9.45l-7.72 7.72c-.78.78-.78 2.05 0 2.83L4 21.41c.39.39.9.59 1.41.59.51 0 1.02-.2 1.41-.59l7.78-7.78 2.81-2.81c.8-.78.8-2.07 0-2.86zM5.41 20L4 18.59l7.72-7.72 1.47 1.35L5.41 20z\"/>\n",
              "  </svg>\n",
              "      </button>\n",
              "      \n",
              "  <style>\n",
              "    .colab-df-container {\n",
              "      display:flex;\n",
              "      flex-wrap:wrap;\n",
              "      gap: 12px;\n",
              "    }\n",
              "\n",
              "    .colab-df-convert {\n",
              "      background-color: #E8F0FE;\n",
              "      border: none;\n",
              "      border-radius: 50%;\n",
              "      cursor: pointer;\n",
              "      display: none;\n",
              "      fill: #1967D2;\n",
              "      height: 32px;\n",
              "      padding: 0 0 0 0;\n",
              "      width: 32px;\n",
              "    }\n",
              "\n",
              "    .colab-df-convert:hover {\n",
              "      background-color: #E2EBFA;\n",
              "      box-shadow: 0px 1px 2px rgba(60, 64, 67, 0.3), 0px 1px 3px 1px rgba(60, 64, 67, 0.15);\n",
              "      fill: #174EA6;\n",
              "    }\n",
              "\n",
              "    [theme=dark] .colab-df-convert {\n",
              "      background-color: #3B4455;\n",
              "      fill: #D2E3FC;\n",
              "    }\n",
              "\n",
              "    [theme=dark] .colab-df-convert:hover {\n",
              "      background-color: #434B5C;\n",
              "      box-shadow: 0px 1px 3px 1px rgba(0, 0, 0, 0.15);\n",
              "      filter: drop-shadow(0px 1px 2px rgba(0, 0, 0, 0.3));\n",
              "      fill: #FFFFFF;\n",
              "    }\n",
              "  </style>\n",
              "\n",
              "      <script>\n",
              "        const buttonEl =\n",
              "          document.querySelector('#df-3059afd9-f52f-421c-b2f3-75afc62d231a button.colab-df-convert');\n",
              "        buttonEl.style.display =\n",
              "          google.colab.kernel.accessAllowed ? 'block' : 'none';\n",
              "\n",
              "        async function convertToInteractive(key) {\n",
              "          const element = document.querySelector('#df-3059afd9-f52f-421c-b2f3-75afc62d231a');\n",
              "          const dataTable =\n",
              "            await google.colab.kernel.invokeFunction('convertToInteractive',\n",
              "                                                     [key], {});\n",
              "          if (!dataTable) return;\n",
              "\n",
              "          const docLinkHtml = 'Like what you see? Visit the ' +\n",
              "            '<a target=\"_blank\" href=https://colab.research.google.com/notebooks/data_table.ipynb>data table notebook</a>'\n",
              "            + ' to learn more about interactive tables.';\n",
              "          element.innerHTML = '';\n",
              "          dataTable['output_type'] = 'display_data';\n",
              "          await google.colab.output.renderOutput(dataTable, element);\n",
              "          const docLink = document.createElement('div');\n",
              "          docLink.innerHTML = docLinkHtml;\n",
              "          element.appendChild(docLink);\n",
              "        }\n",
              "      </script>\n",
              "    </div>\n",
              "  </div>\n",
              "  "
            ]
          },
          "metadata": {},
          "execution_count": 26
        }
      ]
    },
    {
      "cell_type": "code",
      "source": [
        "import statsmodels.api as sm\n",
        "from linearmodels.panel import PooledOLS\n",
        "from linearmodels import PanelOLS\n",
        "from sklearn.preprocessing import StandardScaler"
      ],
      "metadata": {
        "id": "tU3zTwnOP75m"
      },
      "execution_count": null,
      "outputs": []
    },
    {
      "cell_type": "code",
      "source": [
        "control_variables = [\n",
        "    \"log total assets\", \n",
        "    \"operating margin\", \n",
        "    \"working capital ratio\", \n",
        "    \"retained earnings ratio\",\n",
        "    \"debt ratio\",\n",
        "    \"volatility\",\n",
        "    \"Oil\",\n",
        "    #\"Natural Gas\",\n",
        "    ]\n",
        "target = [\"distance to default\"]\n",
        "\n",
        "filtre = df.Industry == \"Energy\"\n",
        "\n",
        "exog = df.loc[filtre, control_variables + [\"log carbone emission\"]]\n",
        "\n",
        "autoscaler = StandardScaler()\n",
        "scaled_exog = autoscaler.fit_transform(exog)\n",
        "scaled_exog = pd.DataFrame(scaled_exog, index=exog.index, columns=exog.columns)\n",
        "\n",
        "scaled_exog = sm.tools.tools.add_constant(scaled_exog)\n",
        "exog = sm.tools.tools.add_constant(exog)\n",
        "\n",
        "endog = df.loc[filtre, target]"
      ],
      "metadata": {
        "colab": {
          "base_uri": "https://localhost:8080/"
        },
        "id": "_nD0uV-9PrRK",
        "outputId": "a08cc360-267e-465e-bf49-e45386b19bd1"
      },
      "execution_count": null,
      "outputs": [
        {
          "output_type": "stream",
          "name": "stderr",
          "text": [
            "/usr/local/lib/python3.7/dist-packages/statsmodels/tsa/tsatools.py:142: FutureWarning: In a future version of pandas all arguments of concat except for the argument 'objs' will be keyword-only\n",
            "  x = pd.concat(x[::order], 1)\n"
          ]
        }
      ]
    },
    {
      "cell_type": "code",
      "source": [
        "model_fe = PanelOLS(endog, exog, entity_effects = False) \n",
        "fe_res = model_fe.fit(cov_type=\"robust\")"
      ],
      "metadata": {
        "id": "_zGmjMKFP5n9"
      },
      "execution_count": null,
      "outputs": []
    },
    {
      "cell_type": "code",
      "source": [
        "print(fe_res)"
      ],
      "metadata": {
        "colab": {
          "base_uri": "https://localhost:8080/"
        },
        "id": "_hYvmFmmQRoA",
        "outputId": "83deb677-e872-4a9e-8049-ecdeddcee631"
      },
      "execution_count": null,
      "outputs": [
        {
          "output_type": "stream",
          "name": "stdout",
          "text": [
            "                           PanelOLS Estimation Summary                           \n",
            "=================================================================================\n",
            "Dep. Variable:     distance to default   R-squared:                        0.6912\n",
            "Estimator:                    PanelOLS   R-squared (Between):              0.6787\n",
            "No. Observations:                  189   R-squared (Within):               0.6950\n",
            "Date:                 Sat, Oct 15 2022   R-squared (Overall):              0.6912\n",
            "Time:                         01:48:24   Log-likelihood                   -397.00\n",
            "Cov. Estimator:                 Robust                                           \n",
            "                                         F-statistic:                      50.354\n",
            "Entities:                          267   P-value                           0.0000\n",
            "Avg Obs:                        0.7079   Distribution:                   F(8,180)\n",
            "Min Obs:                        0.0000                                           \n",
            "Max Obs:                        14.000   F-statistic (robust):             25.226\n",
            "                                         P-value                           0.0000\n",
            "Time periods:                        7   Distribution:                   F(8,180)\n",
            "Avg Obs:                        27.000                                           \n",
            "Min Obs:                        27.000                                           \n",
            "Max Obs:                        27.000                                           \n",
            "                                                                                 \n",
            "                                    Parameter Estimates                                    \n",
            "===========================================================================================\n",
            "                         Parameter  Std. Err.     T-stat    P-value    Lower CI    Upper CI\n",
            "-------------------------------------------------------------------------------------------\n",
            "const                       23.316     2.6843     8.6862     0.0000      18.020      28.613\n",
            "log total assets           -0.4708     0.1316    -3.5771     0.0004     -0.7304     -0.2111\n",
            "operating margin           -0.0086     0.0047    -1.8389     0.0676     -0.0179      0.0006\n",
            "working capital ratio      -7.1920     1.9033    -3.7786     0.0002     -10.948     -3.4363\n",
            "retained earnings ratio    -573.21     391.33    -1.4648     0.1447     -1345.4      198.97\n",
            "debt ratio                 -0.0829     0.0189    -4.3919     0.0000     -0.1202     -0.0457\n",
            "volatility                 -448.98     35.703    -12.575     0.0000     -519.43     -378.53\n",
            "Oil                         0.0075     0.0047     1.5944     0.1126     -0.0018      0.0169\n",
            "log carbone emission       -0.0699     0.1564    -0.4472     0.6553     -0.3785      0.2387\n",
            "===========================================================================================\n",
            "\n",
            "\n"
          ]
        }
      ]
    },
    {
      "cell_type": "code",
      "source": [
        "control_variables = [\n",
        "    \"log total assets\", \n",
        "    \"operating margin\", \n",
        "    \"working capital ratio\", \n",
        "    \"retained earnings ratio\",\n",
        "    \"debt ratio\",\n",
        "    \"volatility\",\n",
        "    \"Oil\",\n",
        "    #\"Natural Gas\",\n",
        "    ]\n",
        "target = [\"distance to default\"]\n",
        "\n",
        "filtre = df.Industry == \"Energy\"\n",
        "\n",
        "exog = df.loc[filtre, control_variables + [\"log carbone emission\"]]\n",
        "\n",
        "autoscaler = StandardScaler()\n",
        "scaled_exog = autoscaler.fit_transform(exog)\n",
        "scaled_exog = pd.DataFrame(scaled_exog, index=exog.index, columns=exog.columns)\n",
        "\n",
        "scaled_exog = sm.tools.tools.add_constant(scaled_exog)\n",
        "#exog = sm.tools.tools.add_constant(exog)\n",
        "\n",
        "endog = df.loc[filtre, target]"
      ],
      "metadata": {
        "colab": {
          "base_uri": "https://localhost:8080/"
        },
        "id": "SjFMrWY8VHEb",
        "outputId": "1b97cab1-ee98-45d9-99cb-4948f7030560"
      },
      "execution_count": null,
      "outputs": [
        {
          "output_type": "stream",
          "name": "stderr",
          "text": [
            "/usr/local/lib/python3.7/dist-packages/statsmodels/tsa/tsatools.py:142: FutureWarning: In a future version of pandas all arguments of concat except for the argument 'objs' will be keyword-only\n",
            "  x = pd.concat(x[::order], 1)\n"
          ]
        }
      ]
    },
    {
      "cell_type": "code",
      "source": [
        "model_fe = PanelOLS(endog, exog, entity_effects = True) \n",
        "fe_res = model_fe.fit(cov_type=\"robust\",)"
      ],
      "metadata": {
        "id": "9JUFk5I-VDFJ"
      },
      "execution_count": null,
      "outputs": []
    },
    {
      "cell_type": "code",
      "source": [
        "print(fe_res)"
      ],
      "metadata": {
        "colab": {
          "base_uri": "https://localhost:8080/"
        },
        "id": "hHYMELB3VPIB",
        "outputId": "07c7fbf1-a8a3-4b3b-ec10-2f2b4f346683"
      },
      "execution_count": null,
      "outputs": [
        {
          "output_type": "stream",
          "name": "stdout",
          "text": [
            "                           PanelOLS Estimation Summary                           \n",
            "=================================================================================\n",
            "Dep. Variable:     distance to default   R-squared:                        0.7095\n",
            "Estimator:                    PanelOLS   R-squared (Between):             -11.525\n",
            "No. Observations:                  189   R-squared (Within):               0.7095\n",
            "Date:                 Sat, Oct 15 2022   R-squared (Overall):             -10.036\n",
            "Time:                         01:49:20   Log-likelihood                   -340.28\n",
            "Cov. Estimator:                 Robust                                           \n",
            "                                         F-statistic:                      47.926\n",
            "Entities:                          267   P-value                           0.0000\n",
            "Avg Obs:                        0.7079   Distribution:                   F(8,157)\n",
            "Min Obs:                        0.0000                                           \n",
            "Max Obs:                        14.000   F-statistic (robust):             27.140\n",
            "                                         P-value                           0.0000\n",
            "Time periods:                        7   Distribution:                   F(8,157)\n",
            "Avg Obs:                        27.000                                           \n",
            "Min Obs:                        27.000                                           \n",
            "Max Obs:                        27.000                                           \n",
            "                                                                                 \n",
            "                                    Parameter Estimates                                    \n",
            "===========================================================================================\n",
            "                         Parameter  Std. Err.     T-stat    P-value    Lower CI    Upper CI\n",
            "-------------------------------------------------------------------------------------------\n",
            "log total assets           -0.4362     0.6167    -0.7073     0.4804     -1.6544      0.7820\n",
            "operating margin           -0.0091     0.0044    -2.0601     0.0410     -0.0179     -0.0004\n",
            "working capital ratio      -2.9642     2.8628    -1.0354     0.3021     -8.6187      2.6903\n",
            "retained earnings ratio    -510.33     528.09    -0.9664     0.3353     -1553.4      532.75\n",
            "debt ratio                 -0.1072     0.0299    -3.5882     0.0004     -0.1661     -0.0482\n",
            "volatility                 -403.14     33.096    -12.181     0.0000     -468.51     -337.77\n",
            "Oil                         0.0087     0.0038     2.2823     0.0238      0.0012      0.0162\n",
            "log carbone emission       -0.9639     0.4335    -2.2235     0.0276     -1.8202     -0.1077\n",
            "===========================================================================================\n",
            "\n",
            "F-test for Poolability: 5.6151\n",
            "P-value: 0.0000\n",
            "Distribution: F(23,157)\n",
            "\n",
            "Included effects: Entity\n"
          ]
        }
      ]
    },
    {
      "cell_type": "code",
      "source": [
        "control_variables = [\n",
        "    \"log total assets\", \n",
        "    \"operating margin\", \n",
        "    \"working capital ratio\", \n",
        "    \"retained earnings ratio\",\n",
        "    \"debt ratio\",\n",
        "    \"volatility\",\n",
        "    \"Oil\",\n",
        "    #\"Natural Gas\",\n",
        "    ]\n",
        "target = [\"distance to default\"]\n",
        "\n",
        "filtre = df.Industry == \"Energy\"\n",
        "\n",
        "exog = df.loc[filtre, control_variables + [\"log carbone intensity\"]]\n",
        "\n",
        "autoscaler = StandardScaler()\n",
        "scaled_exog = autoscaler.fit_transform(exog)\n",
        "scaled_exog = pd.DataFrame(scaled_exog, index=exog.index, columns=exog.columns)\n",
        "\n",
        "scaled_exog = sm.tools.tools.add_constant(scaled_exog)\n",
        "exog = sm.tools.tools.add_constant(exog)\n",
        "\n",
        "endog = df.loc[filtre, target]"
      ],
      "metadata": {
        "colab": {
          "base_uri": "https://localhost:8080/"
        },
        "id": "D67DAmsfQvhs",
        "outputId": "8f8a0370-d9de-44da-a018-8b5980976af9"
      },
      "execution_count": null,
      "outputs": [
        {
          "output_type": "stream",
          "name": "stderr",
          "text": [
            "/usr/local/lib/python3.7/dist-packages/statsmodels/tsa/tsatools.py:142: FutureWarning: In a future version of pandas all arguments of concat except for the argument 'objs' will be keyword-only\n",
            "  x = pd.concat(x[::order], 1)\n"
          ]
        }
      ]
    },
    {
      "cell_type": "code",
      "source": [
        "model_fe = PanelOLS(endog, exog, entity_effects = True) \n",
        "fe_res = model_fe.fit(cov_type=\"robust\")"
      ],
      "metadata": {
        "id": "eNuaywyaQ5iA"
      },
      "execution_count": null,
      "outputs": []
    },
    {
      "cell_type": "code",
      "source": [
        "print(fe_res)"
      ],
      "metadata": {
        "colab": {
          "base_uri": "https://localhost:8080/"
        },
        "id": "Z1a77pzDQ6yN",
        "outputId": "2eff70d5-59f6-4d99-c0e5-5aa6c7597c65"
      },
      "execution_count": null,
      "outputs": [
        {
          "output_type": "stream",
          "name": "stdout",
          "text": [
            "                           PanelOLS Estimation Summary                           \n",
            "=================================================================================\n",
            "Dep. Variable:     distance to default   R-squared:                        0.7094\n",
            "Estimator:                    PanelOLS   R-squared (Between):              0.5470\n",
            "No. Observations:                  189   R-squared (Within):               0.7094\n",
            "Date:                 Sat, Oct 15 2022   R-squared (Overall):              0.6486\n",
            "Time:                         02:00:58   Log-likelihood                   -340.31\n",
            "Cov. Estimator:                 Robust                                           \n",
            "                                         F-statistic:                      47.899\n",
            "Entities:                          267   P-value                           0.0000\n",
            "Avg Obs:                        0.7079   Distribution:                   F(8,157)\n",
            "Min Obs:                        0.0000                                           \n",
            "Max Obs:                        14.000   F-statistic (robust):             26.682\n",
            "                                         P-value                           0.0000\n",
            "Time periods:                        7   Distribution:                   F(8,157)\n",
            "Avg Obs:                        27.000                                           \n",
            "Min Obs:                        27.000                                           \n",
            "Max Obs:                        27.000                                           \n",
            "                                                                                 \n",
            "                                    Parameter Estimates                                    \n",
            "===========================================================================================\n",
            "                         Parameter  Std. Err.     T-stat    P-value    Lower CI    Upper CI\n",
            "-------------------------------------------------------------------------------------------\n",
            "const                       31.731     6.6562     4.7671     0.0000      18.584      44.878\n",
            "log total assets           -1.0102     0.5400    -1.8708     0.0632     -2.0768      0.0564\n",
            "operating margin           -0.0092     0.0044    -2.0792     0.0392     -0.0179     -0.0005\n",
            "working capital ratio      -3.5027     2.7680    -1.2654     0.2076     -8.9700      1.9647\n",
            "retained earnings ratio    -377.23     520.89    -0.7242     0.4700     -1406.1      651.62\n",
            "debt ratio                 -0.0906     0.0286    -3.1676     0.0018     -0.1471     -0.0341\n",
            "volatility                 -407.53     33.575    -12.138     0.0000     -473.84     -341.21\n",
            "Oil                         0.0060     0.0037     1.6346     0.1041     -0.0013      0.0133\n",
            "log carbone intensity      -0.6245     0.3336    -1.8724     0.0630     -1.2834      0.0343\n",
            "===========================================================================================\n",
            "\n",
            "F-test for Poolability: 5.5690\n",
            "P-value: 0.0000\n",
            "Distribution: F(23,157)\n",
            "\n",
            "Included effects: Entity\n"
          ]
        }
      ]
    },
    {
      "cell_type": "code",
      "source": [
        "control_variables = [\n",
        "    \"log total assets\", \n",
        "    \"operating margin\", \n",
        "    \"working capital ratio\", \n",
        "    \"retained earnings ratio\",\n",
        "    \"debt ratio\",\n",
        "    \"volatility\",\n",
        "    \"Oil\",\n",
        "    #\"Natural Gas\",\n",
        "    ]\n",
        "target = [\"distance to default\"]\n",
        "\n",
        "filtre = df.Industry == \"Energy\"\n",
        "\n",
        "exog = df.loc[filtre, control_variables + [\"log carbone emission ante\", \"log carbone emission post\", \"event\"]]\n",
        "\n",
        "autoscaler = StandardScaler()\n",
        "scaled_exog = autoscaler.fit_transform(exog)\n",
        "scaled_exog = pd.DataFrame(scaled_exog, index=exog.index, columns=exog.columns)\n",
        "\n",
        "scaled_exog = sm.tools.tools.add_constant(scaled_exog)\n",
        "exog = sm.tools.tools.add_constant(exog)\n",
        "\n",
        "endog = df.loc[filtre, target]"
      ],
      "metadata": {
        "colab": {
          "base_uri": "https://localhost:8080/"
        },
        "id": "3ZQ29SOUQ9db",
        "outputId": "ba880d21-b199-449a-b7ad-3885e2a2bff6"
      },
      "execution_count": null,
      "outputs": [
        {
          "output_type": "stream",
          "name": "stderr",
          "text": [
            "/usr/local/lib/python3.7/dist-packages/statsmodels/tsa/tsatools.py:142: FutureWarning: In a future version of pandas all arguments of concat except for the argument 'objs' will be keyword-only\n",
            "  x = pd.concat(x[::order], 1)\n"
          ]
        }
      ]
    },
    {
      "cell_type": "code",
      "source": [
        "model_fe = PanelOLS(endog, exog, entity_effects = True) \n",
        "fe_res = model_fe.fit(cov_type=\"robust\")"
      ],
      "metadata": {
        "id": "xSu1UT5dX7rf"
      },
      "execution_count": null,
      "outputs": []
    },
    {
      "cell_type": "code",
      "source": [
        "print(fe_res)"
      ],
      "metadata": {
        "colab": {
          "base_uri": "https://localhost:8080/"
        },
        "id": "Qzv2ZLVgX8Cr",
        "outputId": "11d37795-96a5-43c1-d9d1-bb6ddd11ea45"
      },
      "execution_count": null,
      "outputs": [
        {
          "output_type": "stream",
          "name": "stdout",
          "text": [
            "                           PanelOLS Estimation Summary                           \n",
            "=================================================================================\n",
            "Dep. Variable:     distance to default   R-squared:                        0.7127\n",
            "Estimator:                    PanelOLS   R-squared (Between):              0.4018\n",
            "No. Observations:                  189   R-squared (Within):               0.7127\n",
            "Date:                 Sat, Oct 15 2022   R-squared (Overall):              0.5984\n",
            "Time:                         02:02:18   Log-likelihood                   -339.22\n",
            "Cov. Estimator:                 Robust                                           \n",
            "                                         F-statistic:                      38.450\n",
            "Entities:                          267   P-value                           0.0000\n",
            "Avg Obs:                        0.7079   Distribution:                  F(10,155)\n",
            "Min Obs:                        0.0000                                           \n",
            "Max Obs:                        14.000   F-statistic (robust):             24.672\n",
            "                                         P-value                           0.0000\n",
            "Time periods:                        7   Distribution:                  F(10,155)\n",
            "Avg Obs:                        27.000                                           \n",
            "Min Obs:                        27.000                                           \n",
            "Max Obs:                        27.000                                           \n",
            "                                                                                 \n",
            "                                     Parameter Estimates                                     \n",
            "=============================================================================================\n",
            "                           Parameter  Std. Err.     T-stat    P-value    Lower CI    Upper CI\n",
            "---------------------------------------------------------------------------------------------\n",
            "const                         31.972     6.4795     4.9343     0.0000      19.172      44.771\n",
            "log total assets             -0.4644     0.6293    -0.7381     0.4616     -1.7075      0.7786\n",
            "operating margin             -0.0083     0.0045    -1.8605     0.0647     -0.0172      0.0005\n",
            "working capital ratio        -2.7336     2.8704    -0.9523     0.3424     -8.4037      2.9365\n",
            "retained earnings ratio      -518.65     533.03    -0.9730     0.3321     -1571.6      534.28\n",
            "debt ratio                   -0.1142     0.0312    -3.6589     0.0003     -0.1759     -0.0526\n",
            "volatility                   -405.72     31.988    -12.684     0.0000     -468.91     -342.53\n",
            "Oil                           0.0003     0.0133     0.0227     0.9819     -0.0260      0.0266\n",
            "log carbone emission ante    -0.9182     0.4861    -1.8886     0.0608     -1.8785      0.0422\n",
            "log carbone emission post    -0.9568     0.4604    -2.0783     0.0393     -1.8662     -0.0474\n",
            "event                        -0.4353     0.2811    -1.5486     0.1235     -0.9906      0.1200\n",
            "=============================================================================================\n",
            "\n",
            "F-test for Poolability: 5.5562\n",
            "P-value: 0.0000\n",
            "Distribution: F(23,155)\n",
            "\n",
            "Included effects: Entity\n"
          ]
        }
      ]
    },
    {
      "cell_type": "code",
      "source": [],
      "metadata": {
        "id": "8MlE6XEgYLfU"
      },
      "execution_count": null,
      "outputs": []
    }
  ]
}